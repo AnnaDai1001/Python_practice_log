{
 "cells": [
  {
   "cell_type": "markdown",
   "metadata": {},
   "source": [
    "### 100. Same Tree\n",
    "Companies: GG"
   ]
  },
  {
   "cell_type": "code",
   "execution_count": 1,
   "metadata": {
    "collapsed": true
   },
   "outputs": [],
   "source": [
    "class Solution:\n",
    "    def isSameTree_recursive(self, p, q):\n",
    "        if p and q:\n",
    "            return p.val == q.val and self.isSameTree_recursive(p.left, q.left) and self.isSameTree_recursive(p.right, q.right)\n",
    "        return p is q\n",
    "    \n",
    "    def isSameTree_DFS(self, p, q):\n",
    "        stack = [(p, q)]\n",
    "        while stack:\n",
    "            node1, node2 = stack.pop()\n",
    "            if not node1 and not node2:\n",
    "                continue\n",
    "            elif None in [node1, node2]:\n",
    "                return False\n",
    "            else:\n",
    "                if node1.val != node2.val:\n",
    "                    return False\n",
    "                stack.append((node1.left, node2.left))\n",
    "                stack.append((node1.right, node2.right))\n",
    "        return True\n",
    "    \n",
    "    def isSameTree_BFS(self, p, q):\n",
    "        queue = [(p,q)]\n",
    "        while queue:\n",
    "            node1, node2 = queue.pop(0)\n",
    "            if not node1 and not node2:\n",
    "                continue\n",
    "            elif None in [node1, node2]:\n",
    "                return False\n",
    "            else:\n",
    "                if node1.val != node2.val:\n",
    "                    return False\n",
    "                queue.append((node1.left, node2.left))\n",
    "                queue.append((node1.right, node2.right))\n",
    "        return True"
   ]
  },
  {
   "cell_type": "markdown",
   "metadata": {},
   "source": [
    "### 101. Symmetric Tree\n",
    "Companies: GG"
   ]
  },
  {
   "cell_type": "code",
   "execution_count": 2,
   "metadata": {
    "collapsed": true
   },
   "outputs": [],
   "source": [
    "class Solution:\n",
    "    def isSymmetric_recursive(self, root):\n",
    "        def isSymmetric_nodes(node1, node2):\n",
    "            if not node1 and not node2:\n",
    "                return True\n",
    "            if not node1 or not node2:\n",
    "                return False\n",
    "            if node1 and node2:\n",
    "                return node1.val == node2.val and isSymmetric_nodes(node1.left, node2.right) and isSymmetric_nodes(node1.right, node2.left)\n",
    "    \n",
    "    def isSymmetric_dfs(self, root):\n",
    "        stack = []\n",
    "        if root: stack = [(root.left, root.right)]\n",
    "        while stack:\n",
    "            node1, node2 = stack.pop()\n",
    "            if node1 and node2:\n",
    "                if node1.val != node2.val: return False\n",
    "                stack.append((node1.left, node2.right))\n",
    "                stack.append((node1.right, node2.left))\n",
    "            elif node1 or node2:\n",
    "                return False\n",
    "        return True\n",
    "            "
   ]
  },
  {
   "cell_type": "code",
   "execution_count": null,
   "metadata": {
    "collapsed": true
   },
   "outputs": [],
   "source": []
  }
 ],
 "metadata": {
  "kernelspec": {
   "display_name": "Python 3",
   "language": "python",
   "name": "python3"
  },
  "language_info": {
   "codemirror_mode": {
    "name": "ipython",
    "version": 3
   },
   "file_extension": ".py",
   "mimetype": "text/x-python",
   "name": "python",
   "nbconvert_exporter": "python",
   "pygments_lexer": "ipython3",
   "version": "3.6.3"
  }
 },
 "nbformat": 4,
 "nbformat_minor": 2
}

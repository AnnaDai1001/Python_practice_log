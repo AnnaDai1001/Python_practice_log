{
 "cells": [
  {
   "cell_type": "markdown",
   "metadata": {},
   "source": [
    "### 14. Longest Common Prefix\n",
    "Company: GG"
   ]
  },
  {
   "cell_type": "code",
   "execution_count": 1,
   "metadata": {
    "collapsed": true
   },
   "outputs": [],
   "source": [
    "class Solution:\n",
    "    def longestCommonPrefix_BF(self, strs):\n",
    "        if len(strs) == 1:\n",
    "            return strs[0]\n",
    "        res = ''\n",
    "        i = 0\n",
    "        min_len = min([len(s) for s in strs])\n",
    "        while i < min_len:\n",
    "            for j in range(1, len(strs)):\n",
    "                if strs[j][i] != strs[0][i]:\n",
    "                    return res\n",
    "            res += strs[0][i]\n",
    "            i += 1\n",
    "        return res\n",
    "    \n",
    "    def brilliant_method(self, strs):\n",
    "        m, M = min(strs), max(strs)\n",
    "        for i, l in enumerate(m):\n",
    "            if l != M[i]:\n",
    "                return m[:i]\n",
    "        return m"
   ]
  },
  {
   "cell_type": "code",
   "execution_count": null,
   "metadata": {
    "collapsed": true
   },
   "outputs": [],
   "source": []
  }
 ],
 "metadata": {
  "kernelspec": {
   "display_name": "Python 3",
   "language": "python",
   "name": "python3"
  },
  "language_info": {
   "codemirror_mode": {
    "name": "ipython",
    "version": 3
   },
   "file_extension": ".py",
   "mimetype": "text/x-python",
   "name": "python",
   "nbconvert_exporter": "python",
   "pygments_lexer": "ipython3",
   "version": "3.6.3"
  }
 },
 "nbformat": 4,
 "nbformat_minor": 2
}

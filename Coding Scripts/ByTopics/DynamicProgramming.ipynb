{
 "cells": [
  {
   "cell_type": "markdown",
   "metadata": {},
   "source": [
    "### 53. Maximum Subarray\n",
    "Companies: GG, Amazon"
   ]
  },
  {
   "cell_type": "code",
   "execution_count": null,
   "metadata": {
    "collapsed": true
   },
   "outputs": [],
   "source": [
    "class Solution:\n",
    "    def maxSubArray(self, nums):\n",
    "        max_subsum = [0] * len(nums)\n",
    "        max_subsum[0] = nums[0]\n",
    "        for i in range(1, len(nums)):\n",
    "            max_subsum[i] = max(nums[i], max_subsum[i-1] + nums[i])\n",
    "        return max(max_subsum)"
   ]
  },
  {
   "cell_type": "markdown",
   "metadata": {},
   "source": [
    "### 70. Climbing Stairs\n",
    "Companies: GG"
   ]
  },
  {
   "cell_type": "code",
   "execution_count": 1,
   "metadata": {
    "collapsed": true
   },
   "outputs": [],
   "source": [
    "class Solution:\n",
    "    def climbStairs(self, n):\n",
    "       # dn = dn-1 + dn-2\n",
    "        dp = [0] * n\n",
    "        dp[0] = 1\n",
    "        if n == 1:\n",
    "            return dp[0] # need to consider edge case n = 1, o.w the next line out of bound\n",
    "        dp[1] = 2\n",
    "        for i in range(2,n):\n",
    "            dp[i] = dp[i-1] + dp[i-2]\n",
    "        return dp[-1]"
   ]
  },
  {
   "cell_type": "markdown",
   "metadata": {
    "collapsed": true
   },
   "source": [
    "### 118. Pascal's Triangle\n",
    "Companies: GG"
   ]
  },
  {
   "cell_type": "code",
   "execution_count": 1,
   "metadata": {
    "collapsed": true
   },
   "outputs": [],
   "source": [
    "class Solution:\n",
    "    def generate(self, numRows):\n",
    "        res = []\n",
    "        res.append([1])\n",
    "        for i in range(1, numRows):\n",
    "            temp = [1]\n",
    "            prev = res[i-1]\n",
    "            for j in range(len(prev)-1):\n",
    "                temp.append(prev[j] + prev[j+1])\n",
    "            temp.append(1)\n",
    "            res.append(temp)\n",
    "        return res"
   ]
  },
  {
   "cell_type": "markdown",
   "metadata": {},
   "source": [
    "### 121. Best Time to Buy and Sell Stock\n",
    "Companies: GG"
   ]
  },
  {
   "cell_type": "code",
   "execution_count": 2,
   "metadata": {
    "collapsed": true
   },
   "outputs": [],
   "source": [
    "class Solution:\n",
    "    def maxProfit(self, prices):\n",
    "        min_price, max_profit = float('inf'), 0\n",
    "        for i in range(len(prices)):\n",
    "            max_profit = max(max_profit, prices[i] - min_price)\n",
    "            min_price = min(min_price, prices[i])\n",
    "        return max_profit"
   ]
  },
  {
   "cell_type": "code",
   "execution_count": null,
   "metadata": {
    "collapsed": true
   },
   "outputs": [],
   "source": []
  }
 ],
 "metadata": {
  "kernelspec": {
   "display_name": "Python 3",
   "language": "python",
   "name": "python3"
  },
  "language_info": {
   "codemirror_mode": {
    "name": "ipython",
    "version": 3
   },
   "file_extension": ".py",
   "mimetype": "text/x-python",
   "name": "python",
   "nbconvert_exporter": "python",
   "pygments_lexer": "ipython3",
   "version": "3.6.3"
  }
 },
 "nbformat": 4,
 "nbformat_minor": 2
}

{
 "cells": [
  {
   "cell_type": "markdown",
   "metadata": {},
   "source": [
    "### 133. Clone Graph\n",
    "Companies"
   ]
  },
  {
   "cell_type": "code",
   "execution_count": null,
   "metadata": {
    "collapsed": true
   },
   "outputs": [],
   "source": [
    "\"\"\"\n",
    "# Definition for a Node.\n",
    "class Node:\n",
    "    def __init__(self, val = 0, neighbors = None):\n",
    "        self.val = val\n",
    "        self.neighbors = neighbors if neighbors is not None else []\n",
    "\"\"\"\n",
    "\n",
    "# Not only copy the nodes but also the relationships between nodes\n",
    "\n",
    "class Solution:\n",
    "    def cloneGraph(self, node: 'Node') -> 'Node':\n",
    "        # BFS\n",
    "        if not node:\n",
    "            return node\n",
    "        \n",
    "        q = [node]\n",
    "        mapping = {node: Node(node.val, [])}\n",
    "        \n",
    "        while q:\n",
    "            n = q.pop(0)\n",
    "            for adj in n.neighbors:\n",
    "                if adj not in mapping:\n",
    "                    mapping[adj] = Node(adj.val, [])\n",
    "                    q.append(adj)\n",
    "                mapping[n].neighbors.append(mapping[adj])\n",
    "        return mapping[node]\n",
    "        \n",
    "        # DFS # copy both nodes and relationships\n",
    "#         def helper(node, visited):\n",
    "#             if not node:\n",
    "#                 return node\n",
    "#             newNode = Node(node.val)\n",
    "#             visited[node.val] = newNode\n",
    "            \n",
    "#             for n in node.neighbors:\n",
    "#                 if n.val not in visited:\n",
    "#                     newNode.neighbors.append(helper(n, visited))\n",
    "#                 else:\n",
    "#                     newNode.neighbors.append(visited[n.val])\n",
    "#             return newNode\n",
    "        \n",
    "#         return helper(node, {})"
   ]
  },
  {
   "cell_type": "markdown",
   "metadata": {},
   "source": [
    "### 200. Number of Islands\n",
    "Companies: Amazon\n",
    "\n",
    "**The DFS and BFS approaches are quite similar in the code actually. But notice that in BFS, we are popping left so that it's doing BFS instead of DFS. Popping right will be the same story.**"
   ]
  },
  {
   "cell_type": "code",
   "execution_count": null,
   "metadata": {
    "collapsed": true
   },
   "outputs": [],
   "source": [
    "class Solution:\n",
    "    def numIslands(self, grid: List[List[str]]) -> int:\n",
    "        # BFS\n",
    "        m,n = len(grid), len(grid[0])\n",
    "        cnt = 0\n",
    "        \n",
    "        for i in range(m):\n",
    "            for j in range(n):\n",
    "                if grid[i][j] == '1':\n",
    "                    cnt += 1\n",
    "                    grid[i][j] = '2'\n",
    "                    q = [(i,j)]\n",
    "                    while q:\n",
    "                        x,y = q.pop(0)\n",
    "                        for dx,dy in (-1,0), (1,0), (0,-1), (0,1):\n",
    "                            if 0<= (x+dx) <m and 0<= (y+dy) <n and grid[x+dx][y+dy] == '1':\n",
    "                                grid[x+dx][y+dy] = '2'\n",
    "                                q.append((x+dx,y+dy))\n",
    "        return cnt\n",
    "        \n",
    "        \n",
    "#         ### DFS\n",
    "#         def helper(grid, x, y):\n",
    "#             m,n = len(grid), len(grid[0])\n",
    "#             grid[x][y] = '2'\n",
    "#             for (dx, dy) in [(1,0), (-1,0), (0,1), (0,-1)]:\n",
    "#                 if 0 <= (x+dx) < m and 0 <= (y+dy) < n and grid[x+dx][y+dy] == '1':\n",
    "#                     helper(grid, x+dx, y+dy) # key! where recursion happens\n",
    "                    \n",
    "#         m,n = len(grid), len(grid[0])\n",
    "#         cnt = 0\n",
    "#         for i in range(m):\n",
    "#             for j in range(n):\n",
    "#                 if grid[i][j] == '1':\n",
    "#                     cnt += 1\n",
    "#                     helper(grid, i, j)    \n",
    "#         return cnt\n",
    "\n",
    "\n"
   ]
  },
  {
   "cell_type": "code",
   "execution_count": null,
   "metadata": {
    "collapsed": true
   },
   "outputs": [],
   "source": []
  },
  {
   "cell_type": "code",
   "execution_count": null,
   "metadata": {
    "collapsed": true
   },
   "outputs": [],
   "source": []
  }
 ],
 "metadata": {
  "kernelspec": {
   "display_name": "Python 3",
   "language": "python",
   "name": "python3"
  },
  "language_info": {
   "codemirror_mode": {
    "name": "ipython",
    "version": 3
   },
   "file_extension": ".py",
   "mimetype": "text/x-python",
   "name": "python",
   "nbconvert_exporter": "python",
   "pygments_lexer": "ipython3",
   "version": "3.6.3"
  }
 },
 "nbformat": 4,
 "nbformat_minor": 2
}

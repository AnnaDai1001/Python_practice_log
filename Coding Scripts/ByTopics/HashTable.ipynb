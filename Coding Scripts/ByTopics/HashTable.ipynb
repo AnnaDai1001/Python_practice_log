{
 "cells": [
  {
   "cell_type": "markdown",
   "metadata": {},
   "source": [
    "### 1. Two Sum\n",
    "Companies: GG, Amazon"
   ]
  },
  {
   "cell_type": "code",
   "execution_count": 2,
   "metadata": {},
   "outputs": [],
   "source": [
    "class Solution:\n",
    "    def twoSum_BF(self, nums, target):\n",
    "        #  brute force: O(n^2)\n",
    "        l = len(nums)\n",
    "        for i in range(l-1):\n",
    "            for j in range(i+1, l):\n",
    "                if nums[i] + nums[j] == target:\n",
    "                    return [i,j]\n",
    "    \n",
    "    def twoSum_hashT(self, nums, target):\n",
    "                # hash table: O(n)\n",
    "        l = len(nums)\n",
    "        comp = dict()\n",
    "        for i in range(l):\n",
    "            c = target - nums[i]\n",
    "            if c not in comp:\n",
    "                comp[nums[i]] = i\n",
    "            else:\n",
    "                return [comp[c], i]"
   ]
  },
  {
   "cell_type": "markdown",
   "metadata": {},
   "source": []
  },
  {
   "cell_type": "code",
   "execution_count": null,
   "metadata": {
    "collapsed": true
   },
   "outputs": [],
   "source": []
  }
 ],
 "metadata": {
  "kernelspec": {
   "display_name": "Python 3",
   "language": "python",
   "name": "python3"
  },
  "language_info": {
   "codemirror_mode": {
    "name": "ipython",
    "version": 3
   },
   "file_extension": ".py",
   "mimetype": "text/x-python",
   "name": "python",
   "nbconvert_exporter": "python",
   "pygments_lexer": "ipython3",
   "version": "3.6.3"
  }
 },
 "nbformat": 4,
 "nbformat_minor": 2
}

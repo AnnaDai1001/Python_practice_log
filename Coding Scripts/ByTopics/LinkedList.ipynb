{
 "cells": [
  {
   "cell_type": "markdown",
   "metadata": {},
   "source": [
    "### 2. Add Two Numbers\n",
    "Companies: GG, Amazon"
   ]
  },
  {
   "cell_type": "code",
   "execution_count": null,
   "metadata": {
    "collapsed": true
   },
   "outputs": [],
   "source": [
    "class Solution:\n",
    "    def addTwoNumbers_recursion(self, l1, l2):\n",
    "        _ = l1.val + l2.val\n",
    "        digit, tenth = _%10, _//10\n",
    "        res = ListNode(digit)\n",
    "        \n",
    "        if any((l1.next, l2.next, tenth)):\n",
    "            l1 = l1.next if l1.next else ListNode(0)\n",
    "            l2 = l2.next if l2.next else ListNode(0)\n",
    "            l1.val += tenth\n",
    "            res.next = self.addTwoNumbers_recursion(l1,l2)\n",
    "        return res\n",
    "    \n",
    "    def addTwoNumbers_iteration(self, l1, l2):\n",
    "        head = l = ListNode(0)\n",
    "        tempsum = 0\n",
    "        while l1 or l2 or tempsum:\n",
    "            if l1:\n",
    "                tempsum += l1.val\n",
    "                l1 = l1.next\n",
    "            if l2:\n",
    "                tempsum += l2.val\n",
    "                l2 = l2.next\n",
    "            l.next = ListNode(tempsum%10)\n",
    "            l = l.next\n",
    "            tempsum //= 10\n",
    "        return head.next\n",
    "    "
   ]
  },
  {
   "cell_type": "markdown",
   "metadata": {
    "collapsed": true
   },
   "source": [
    "### 21. Merge Two Sorted Lists\n",
    "Companies: GG, Amazon"
   ]
  },
  {
   "cell_type": "code",
   "execution_count": null,
   "metadata": {
    "collapsed": true
   },
   "outputs": [],
   "source": [
    "class Solution:\n",
    "    def mergeTwoLists_recursion(self, l1: Optional[ListNode], l2: Optional[ListNode]):\n",
    "        if not l1:\n",
    "            return l2\n",
    "        if not l2:\n",
    "            return l1\n",
    "        if l1.val < l2.val:\n",
    "            ans = ListNode(l1.val)\n",
    "            ans.next = self.mergeTwoLists(l1.next, l2) # need to be careful, the value of l2 has not been added yet!!\n",
    "        else:\n",
    "            ans = ListNode(l2.val)\n",
    "            ans.next = self.mergeTwoLists(l1, l2.next)\n",
    "        return ans\n",
    "    \n",
    "    def mergeTwoLists_iteration(self, l1: Optional[ListNode], l2: Optional[ListNode]) -> Optional[ListNode]:\n",
    "        \n",
    "        head = dummy = ListNode(0)\n",
    "        while l1 and l2:\n",
    "            if l1.val < l2.val:\n",
    "                dummy.next = ListNode(l1.val)\n",
    "                l1 = l1.next\n",
    "                dummy = dummy.next\n",
    "            else:\n",
    "                dummy.next = ListNode(l2.val)\n",
    "                l2 = l2.next\n",
    "                dummy = dummy.next\n",
    "        dummy.next = l1 or l2\n",
    "        return head.next    \n",
    "    "
   ]
  },
  {
   "cell_type": "code",
   "execution_count": null,
   "metadata": {
    "collapsed": true
   },
   "outputs": [],
   "source": []
  },
  {
   "cell_type": "code",
   "execution_count": null,
   "metadata": {
    "collapsed": true
   },
   "outputs": [],
   "source": []
  }
 ],
 "metadata": {
  "kernelspec": {
   "display_name": "Python 3",
   "language": "python",
   "name": "python3"
  },
  "language_info": {
   "codemirror_mode": {
    "name": "ipython",
    "version": 3
   },
   "file_extension": ".py",
   "mimetype": "text/x-python",
   "name": "python",
   "nbconvert_exporter": "python",
   "pygments_lexer": "ipython3",
   "version": "3.6.3"
  }
 },
 "nbformat": 4,
 "nbformat_minor": 2
}

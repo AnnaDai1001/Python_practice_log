{
 "cells": [
  {
   "cell_type": "markdown",
   "metadata": {},
   "source": [
    "### 100. Same Tree\n",
    "Companies: GG"
   ]
  },
  {
   "cell_type": "code",
   "execution_count": 1,
   "metadata": {
    "collapsed": true
   },
   "outputs": [],
   "source": [
    "class Solution:\n",
    "    def isSameTree_recursive(self, p, q):\n",
    "        if p and q:\n",
    "            return p.val == q.val and self.isSameTree_recursive(p.left, q.left) and self.isSameTree_recursive(p.right, q.right)\n",
    "        return p is q\n",
    "    \n",
    "    def isSameTree_DFS(self, p, q):\n",
    "        stack = [(p, q)]\n",
    "        while stack:\n",
    "            node1, node2 = stack.pop()\n",
    "            if not node1 and not node2:\n",
    "                continue\n",
    "            elif None in [node1, node2]:\n",
    "                return False\n",
    "            else:\n",
    "                if node1.val != node2.val:\n",
    "                    return False\n",
    "                stack.append((node1.left, node2.left))\n",
    "                stack.append((node1.right, node2.right))\n",
    "        return True\n",
    "    \n",
    "    def isSameTree_BFS(self, p, q):\n",
    "        queue = [(p,q)]\n",
    "        while queue:\n",
    "            node1, node2 = queue.pop(0)\n",
    "            if not node1 and not node2:\n",
    "                continue\n",
    "            elif None in [node1, node2]:\n",
    "                return False\n",
    "            else:\n",
    "                if node1.val != node2.val:\n",
    "                    return False\n",
    "                queue.append((node1.left, node2.left))\n",
    "                queue.append((node1.right, node2.right))\n",
    "        return True"
   ]
  },
  {
   "cell_type": "markdown",
   "metadata": {},
   "source": [
    "### 101. Symmetric Tree\n",
    "Companies: GG"
   ]
  },
  {
   "cell_type": "code",
   "execution_count": 2,
   "metadata": {
    "collapsed": true
   },
   "outputs": [],
   "source": [
    "class Solution:\n",
    "    def isSymmetric_recursive(self, root):\n",
    "        def isSymmetric_nodes(node1, node2):\n",
    "            if not node1 and not node2:\n",
    "                return True\n",
    "            if not node1 or not node2:\n",
    "                return False\n",
    "            if node1 and node2:\n",
    "                return node1.val == node2.val and isSymmetric_nodes(node1.left, node2.right) and isSymmetric_nodes(node1.right, node2.left)\n",
    "    \n",
    "    def isSymmetric_dfs(self, root):\n",
    "        stack = []\n",
    "        if root: stack = [(root.left, root.right)]\n",
    "        while stack:\n",
    "            node1, node2 = stack.pop()\n",
    "            if node1 and node2:\n",
    "                if node1.val != node2.val: return False\n",
    "                stack.append((node1.left, node2.right))\n",
    "                stack.append((node1.right, node2.left))\n",
    "            elif node1 or node2:\n",
    "                return False\n",
    "        return True\n",
    "            "
   ]
  },
  {
   "cell_type": "markdown",
   "metadata": {
    "collapsed": true
   },
   "source": [
    "### 108. Convert Sorted Array to Binary Search Tree\n",
    "Companies: GG, Amazon"
   ]
  },
  {
   "cell_type": "code",
   "execution_count": 2,
   "metadata": {},
   "outputs": [],
   "source": [
    "class Solution:\n",
    "    def sortedArrayToBST_recursive(self, nums):\n",
    "        def helper(nums, floor, ceiling):\n",
    "            if floor <= ceiling:\n",
    "                mid = (floor + ceiling) // 2\n",
    "                node = TreeNode(nums[val])\n",
    "                node.left = helper(nums, floor, mid - 1)\n",
    "                node.right = helper(nums, mid + 1, ceiling)\n",
    "                return node\n",
    "        return helper(nums, 0, len(nums) - 1)\n",
    "    \n",
    "    def sortedArrayToBST_iterative(self, nums):\n",
    "        if not nums:\n",
    "            return None\n",
    "        stack = [(0, len(nums) - 1, None, None)]\n",
    "        while stack:\n",
    "            floor, ceiling, parent, direction = stack.pop()\n",
    "            mid = (floor + ceiling) // 2\n",
    "            node = TreeNode(nums[mid])\n",
    "            \n",
    "            if not parent:\n",
    "                root = node\n",
    "            else:\n",
    "                if direction == 'l':\n",
    "                    parent.left = node\n",
    "                if direction == 'r':\n",
    "                    parent.right = node\n",
    "            \n",
    "            if mid - 1 >= floor:\n",
    "                stack.append((floor, mid - 1, node, 'l'))\n",
    "            if mid + 1 <= ceiling:\n",
    "                stack.append((mid + 1, ceiling, node, 'r'))\n",
    "            return root"
   ]
  },
  {
   "cell_type": "markdown",
   "metadata": {},
   "source": [
    "### 110. Balanced Binary Tree\n",
    "Companies: GG"
   ]
  },
  {
   "cell_type": "code",
   "execution_count": 3,
   "metadata": {
    "collapsed": true
   },
   "outputs": [],
   "source": [
    "class Solution:\n",
    "    def isBalanced(self, root):\n",
    "        if not root: return True\n",
    "        return abs(self.getHeight(root.left) - self.getHeight(root.right)) < 2 and self.isBalanced(root.left) and self.isBalanced(root.right)\n",
    "    \n",
    "    def getHeight(self, root):\n",
    "        if not root:\n",
    "            return 0\n",
    "        return 1 + max(self.getHeight(root.left), self.getHeight(root.right))\n",
    "    \n",
    "    # https://leetcode.com/problems/balanced-binary-tree/discuss/35708/VERY-SIMPLE-Python-solutions-(iterative-and-recursive)-both-beat-90\n",
    "    # iterative method above, but not very readable, so haven't fully understood it yet"
   ]
  },
  {
   "cell_type": "code",
   "execution_count": null,
   "metadata": {
    "collapsed": true
   },
   "outputs": [],
   "source": []
  }
 ],
 "metadata": {
  "kernelspec": {
   "display_name": "Python 3",
   "language": "python",
   "name": "python3"
  },
  "language_info": {
   "codemirror_mode": {
    "name": "ipython",
    "version": 3
   },
   "file_extension": ".py",
   "mimetype": "text/x-python",
   "name": "python",
   "nbconvert_exporter": "python",
   "pygments_lexer": "ipython3",
   "version": "3.6.3"
  }
 },
 "nbformat": 4,
 "nbformat_minor": 2
}

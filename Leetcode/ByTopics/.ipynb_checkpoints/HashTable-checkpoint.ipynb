{
 "cells": [
  {
   "cell_type": "markdown",
   "metadata": {},
   "source": [
    "### 1. Two Sum\n",
    "Companies: GG, Amazon"
   ]
  },
  {
   "cell_type": "code",
   "execution_count": 2,
   "metadata": {
    "collapsed": true
   },
   "outputs": [],
   "source": [
    "class Solution:\n",
    "    def twoSum_BF(self, nums, target):\n",
    "        #  brute force: O(n^2)\n",
    "        l = len(nums)\n",
    "        for i in range(l-1):\n",
    "            for j in range(i+1, l):\n",
    "                if nums[i] + nums[j] == target:\n",
    "                    return [i,j]\n",
    "    \n",
    "    def twoSum_hashT(self, nums, target):\n",
    "                # hash table: O(n)\n",
    "        l = len(nums)\n",
    "        comp = dict()\n",
    "        for i in range(l):\n",
    "            c = target - nums[i]\n",
    "            if c not in comp:\n",
    "                comp[nums[i]] = i\n",
    "            else:\n",
    "                return [comp[c], i]"
   ]
  },
  {
   "cell_type": "markdown",
   "metadata": {},
   "source": []
  },
  {
   "cell_type": "markdown",
   "metadata": {
    "collapsed": true
   },
   "source": [
    "### 13. Roman to Integer\n",
    "Companies: GG"
   ]
  },
  {
   "cell_type": "code",
   "execution_count": null,
   "metadata": {
    "collapsed": true
   },
   "outputs": [],
   "source": [
    "class Solution:\n",
    "    def romanToInt(self, s: str) -> int:\n",
    "        translation = {\n",
    "            'I': 1,\n",
    "            'V': 5,\n",
    "            'X': 10,\n",
    "            'L': 50,\n",
    "            'C': 100,\n",
    "            'D': 500,\n",
    "            'M': 1000\n",
    "            \n",
    "        }\n",
    "        s = s.replace('IV', 'IIII').replace('IX', 'VIIII')\n",
    "        s = s.replace('XL', 'XXXX').replace('XC', 'LXXXX')\n",
    "        s = s.replace('CD', 'CCCC').replace('CM', 'DCCCC')\n",
    "        res = 0\n",
    "        for c in s:\n",
    "            res += translation[c]\n",
    "        return res"
   ]
  },
  {
   "cell_type": "markdown",
   "metadata": {
    "collapsed": true
   },
   "source": [
    "### 203. Remove Linked List Elements\n",
    "Companies: GG"
   ]
  },
  {
   "cell_type": "code",
   "execution_count": null,
   "metadata": {
    "collapsed": true
   },
   "outputs": [],
   "source": [
    "class Solution:\n",
    "    def isIsomorphic(self, s, t): # the key is that one key can only have one value and one value can only have one key; so need to track both.\n",
    "        d1 = {}\n",
    "        d2 = {}\n",
    "        for i in range(len(s)):\n",
    "            if s[i] not in d1:\n",
    "                d1[s[i]] = t[i]\n",
    "            else:\n",
    "                if d1[s[i]] != t[i]:\n",
    "                    return False\n",
    "            if t[i] not in d2:\n",
    "                d2[t[i]] = s[i]\n",
    "            else:\n",
    "                if d2[t[i]] != s[i]:\n",
    "                    return False\n",
    "                \n",
    "                \n",
    "        return True"
   ]
  }
 ],
 "metadata": {
  "kernelspec": {
   "display_name": "Python 3",
   "language": "python",
   "name": "python3"
  },
  "language_info": {
   "codemirror_mode": {
    "name": "ipython",
    "version": 3
   },
   "file_extension": ".py",
   "mimetype": "text/x-python",
   "name": "python",
   "nbconvert_exporter": "python",
   "pygments_lexer": "ipython3",
   "version": "3.6.3"
  }
 },
 "nbformat": 4,
 "nbformat_minor": 2
}

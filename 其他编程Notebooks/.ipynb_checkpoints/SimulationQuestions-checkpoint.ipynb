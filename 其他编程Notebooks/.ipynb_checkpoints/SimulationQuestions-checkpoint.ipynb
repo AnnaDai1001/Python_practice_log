{
 "cells": [
  {
   "cell_type": "markdown",
   "metadata": {},
   "source": [
    "## Simulation Questions"
   ]
  },
  {
   "cell_type": "markdown",
   "metadata": {},
   "source": [
    "##### 1. [FAANG Ask These 5 Python Questions in 2021](https://towardsdatascience.com/5-python-coding-questions-asked-at-faang-59e6cf5ba2a0)\n"
   ]
  },
  {
   "cell_type": "markdown",
   "metadata": {},
   "source": [
    "###### Question 1: Who wins first? By Microsoft\n",
    "Amy and Brad take turns in rolling a fair six-sided die. Whoever rolls a “6” first wins the game. Amy starts by rolling first. What’s the probability that Amy wins?"
   ]
  },
  {
   "cell_type": "markdown",
   "metadata": {},
   "source": [
    "**Thoughts:**\n",
    "\n",
    "1. solvable: \n",
    "* sum of geometric sequence -> 6/11\n",
    "* suppose it's I then $I = 1/2 + (5/6)^2 * I$, i.e. $I = 6/11$\n",
    "2. simulation: \n",
    "* treat each two times as one block; after the first block, the probability of winning will be reset\n",
    "* Similar to the unfair coin simulate fair coin situation: only two situations - A or B win; repeat the blocks, discard if neither gets 6; then use $A_cnt / (A_cnt + B_cnt)$"
   ]
  },
  {
   "cell_type": "code",
   "execution_count": 1,
   "metadata": {},
   "outputs": [
    {
     "data": {
      "text/plain": [
       "0.5256287806431073"
      ]
     },
     "execution_count": 1,
     "metadata": {},
     "output_type": "execute_result"
    }
   ],
   "source": [
    "# Simulate the probability of A win\n",
    "\n",
    "import numpy as np\n",
    "\n",
    "def who_won(size = 10000, die = [1,2,3,4,5,6]):\n",
    "    A_cnt = 0\n",
    "    B_cnt = 0\n",
    "    \n",
    "    for i in range(size):\n",
    "        A = np.random.choice(die)\n",
    "        if A == 6:\n",
    "            A_cnt += 1\n",
    "        \n",
    "        else:\n",
    "            B = np.random.choice(die)\n",
    "            if B == 6:\n",
    "                B_cnt += 1\n",
    "    \n",
    "    return A_cnt / (A_cnt + B_cnt) # throw other situations away\n",
    "\n",
    "who_won()"
   ]
  },
  {
   "cell_type": "code",
   "execution_count": 5,
   "metadata": {},
   "outputs": [
    {
     "data": {
      "text/plain": [
       "0.5504"
      ]
     },
     "execution_count": 5,
     "metadata": {},
     "output_type": "execute_result"
    }
   ],
   "source": [
    "# Simulation by definition - easier to understand\n",
    "\n",
    "def who_won2(size = 10000, die = [1,2,3,4,5,6]):\n",
    "    A_cnt = 0\n",
    "    B_cnt = 0\n",
    "    \n",
    "    for i in range(size):\n",
    "        A = 0\n",
    "        B = 0\n",
    "        while A != 6 and B != 6:\n",
    "            A = np.random.choice(die)\n",
    "            B = np.random.choice(die)\n",
    "\n",
    "        if A == 6:\n",
    "            A_cnt += 1\n",
    "        if B == 6:\n",
    "            B_cnt += 1\n",
    "\n",
    "    return A_cnt / size\n",
    "\n",
    "who_won2()"
   ]
  },
  {
   "cell_type": "markdown",
   "metadata": {},
   "source": [
    "###### Question 2: Maximum 69 Number, by every major company\n",
    "- Given a positive integer num consisting only of digits 6 and 9.\n",
    "- Return the maximum number you can get by changing at most one digit (6 becomes 9, and 9 becomes 6)."
   ]
  },
  {
   "cell_type": "code",
   "execution_count": 14,
   "metadata": {},
   "outputs": [
    {
     "data": {
      "text/plain": [
       "9996"
      ]
     },
     "execution_count": 14,
     "metadata": {},
     "output_type": "execute_result"
    }
   ],
   "source": [
    "def convert_to_max(num):\n",
    "    \n",
    "    new_list = []\n",
    "    for i,c in enumerate(str(num)):\n",
    "        if c == '6':\n",
    "            new_list.append('9')\n",
    "            break\n",
    "        new_list.append(c)\n",
    "    new_list.append(str(num)[(i+1):])\n",
    "    return int(''.join(new_list))\n",
    "\n",
    "convert_to_max(6996)"
   ]
  },
  {
   "cell_type": "code",
   "execution_count": 16,
   "metadata": {},
   "outputs": [
    {
     "data": {
      "text/plain": [
       "9996"
      ]
     },
     "execution_count": 16,
     "metadata": {},
     "output_type": "execute_result"
    }
   ],
   "source": [
    "def convert_to_max2(num, k = 1):\n",
    "    return(int(str(num).replace('6', '9', k))) # replace the first '6'\n",
    "    # k = 2: the first two '6'\n",
    "    # remove k or k = len(str(num)): replace all '6'\n",
    "\n",
    "convert_to_max2(6996)"
   ]
  },
  {
   "cell_type": "markdown",
   "metadata": {},
   "source": [
    "###### Question 3: Valid Perfect Square. By Facebook\n",
    "- Given a positive integer num, write a function that returns True if num is a perfect square else False.\n",
    "- Follow up: Do not use any built-in library function such as sqrt."
   ]
  },
  {
   "cell_type": "code",
   "execution_count": 19,
   "metadata": {},
   "outputs": [
    {
     "data": {
      "text/plain": [
       "(False, True)"
      ]
     },
     "execution_count": 19,
     "metadata": {},
     "output_type": "execute_result"
    }
   ],
   "source": [
    "# if we can use built-in function\n",
    "import math\n",
    "\n",
    "def check_square_0(num):\n",
    "    return int(math.sqrt(num))**2 == num\n",
    "\n",
    "check_square_0(15), check_square_0(16)"
   ]
  },
  {
   "cell_type": "code",
   "execution_count": 22,
   "metadata": {},
   "outputs": [
    {
     "data": {
      "text/plain": [
       "(False, True)"
      ]
     },
     "execution_count": 22,
     "metadata": {},
     "output_type": "execute_result"
    }
   ],
   "source": [
    "# use brute-force\n",
    "def check_square_1(num):\n",
    "    for i in range(num):\n",
    "        if i*i == num:\n",
    "            return True\n",
    "        \n",
    "    return False\n",
    "\n",
    "check_square_1(15), check_square_1(16)"
   ]
  },
  {
   "cell_type": "code",
   "execution_count": 23,
   "metadata": {},
   "outputs": [
    {
     "data": {
      "text/plain": [
       "(False, True)"
      ]
     },
     "execution_count": 23,
     "metadata": {},
     "output_type": "execute_result"
    }
   ],
   "source": [
    "# use binary search\n",
    "def check_square_2(num):\n",
    "    \n",
    "    if num < 2: return True\n",
    "    \n",
    "    left, right = 2, num//2\n",
    "    \n",
    "    while left <= right: # need equal sign like 4\n",
    "        mid = left + (right - left)//2\n",
    "        x_square = mid * mid\n",
    "        if x_square == num:\n",
    "            return True\n",
    "        elif x_square < num:\n",
    "            left += 1\n",
    "        else:\n",
    "            right -= 1\n",
    "    return False\n",
    "        \n",
    "\n",
    "check_square_2(15), check_square_2(16)"
   ]
  },
  {
   "cell_type": "markdown",
   "metadata": {},
   "source": [
    "###### Question 4: Factorial Trailing Zeroes. By Bloomberg\n",
    "- Given an integer n, return the number of trailing zeroes in n!\n",
    "- Follow up: Could you write a solution that works in logarithmic time complexity?"
   ]
  },
  {
   "cell_type": "code",
   "execution_count": 27,
   "metadata": {},
   "outputs": [
    {
     "data": {
      "text/plain": [
       "(1, 4)"
      ]
     },
     "execution_count": 27,
     "metadata": {},
     "output_type": "execute_result"
    }
   ],
   "source": [
    "\n",
    "def trail_zero_1(n):\n",
    "    product = n\n",
    "    while n > 1:\n",
    "        product *= (n-1)\n",
    "        n -= 1\n",
    "    \n",
    "    cnt = 0\n",
    "    for c in str(product)[::-1]:\n",
    "        if c == '0':\n",
    "            cnt += 1\n",
    "        else:\n",
    "            break\n",
    "    return cnt\n",
    "\n",
    "trail_zero_1(5), trail_zero_1(20)"
   ]
  },
  {
   "cell_type": "code",
   "execution_count": 28,
   "metadata": {},
   "outputs": [
    {
     "data": {
      "text/plain": [
       "(1, 4)"
      ]
     },
     "execution_count": 28,
     "metadata": {},
     "output_type": "execute_result"
    }
   ],
   "source": [
    "def trail_zero_2(n):\n",
    "    product = n\n",
    "    while n > 1:\n",
    "        product *= (n-1)\n",
    "        n -= 1\n",
    "    \n",
    "    cnt = 0\n",
    "    while product % 10 == 0:\n",
    "        cnt += 1\n",
    "        product /= 10\n",
    "    return cnt\n",
    "\n",
    "trail_zero_2(5), trail_zero_2(20)"
   ]
  },
  {
   "cell_type": "markdown",
   "metadata": {},
   "source": [
    "###### Question 5: Perfect Number, by Amazon\n",
    "- A perfect number is a positive integer that is equal to the sum of its positive divisors, excluding the number itself.\n",
    "- A divisor of an integer x is an integer that can divide x evenly.\n",
    "- Given an integer n, return true if n is a perfect number, otherwise, return false."
   ]
  },
  {
   "cell_type": "code",
   "execution_count": 30,
   "metadata": {},
   "outputs": [
    {
     "data": {
      "text/plain": [
       "(False, False, False)"
      ]
     },
     "execution_count": 30,
     "metadata": {},
     "output_type": "execute_result"
    }
   ],
   "source": [
    "# brute force\n",
    "def check_perfect_0(n):\n",
    "    if n <= 1:\n",
    "        return False\n",
    "    \n",
    "    d_list = []\n",
    "    for i in range(1,n):\n",
    "        if n % i == 0:\n",
    "            d_list.append(i)\n",
    "    return n == sum(d_list)\n",
    "\n",
    "check_perfect_0(1), check_perfect_0(2), check_perfect_0(3)"
   ]
  },
  {
   "cell_type": "code",
   "execution_count": 31,
   "metadata": {},
   "outputs": [
    {
     "data": {
      "text/plain": [
       "(False, False, False)"
      ]
     },
     "execution_count": 31,
     "metadata": {},
     "output_type": "execute_result"
    }
   ],
   "source": [
    "# no need to check all the numbers but below or equal to sqrt(n)\n",
    "def check_perfect_1(n):\n",
    "    if n <= 1:\n",
    "        return False\n",
    "    \n",
    "    d_list = set([1])\n",
    "    for i in range(2,int(n**0.5)):\n",
    "        if n % i == 0:\n",
    "            d_list.add(i)\n",
    "            d_list.add(n//i)\n",
    "    return n == sum(d_list)\n",
    "\n",
    "check_perfect_0(1), check_perfect_0(2), check_perfect_0(3)"
   ]
  },
  {
   "cell_type": "markdown",
   "metadata": {},
   "source": [
    "###### Question 6: Uniform Distribution\n",
    "In R or Python, please answer the following question.\n",
    "For a sequence of numbers, (a1,a2,a3,a4,…,an), please write a function \n",
    "* that randomly returns each element, ai, with probability ai/∑ai. (Condition 1)\n",
    "* For example, for a sequence (1,2,3,4), the function returns element 1 with a probability of 1/10 and 4 with a probability of 4/10. (Condition 2)\n",
    "* You can use any library, but no random.choice(). (Condition 3)"
   ]
  },
  {
   "cell_type": "code",
   "execution_count": 35,
   "metadata": {},
   "outputs": [
    {
     "name": "stdout",
     "output_type": "stream",
     "text": [
      "1\n",
      "5\n",
      "8\n",
      "8\n",
      "4\n",
      "8\n",
      "8\n",
      "3\n",
      "8\n",
      "3\n"
     ]
    }
   ],
   "source": [
    "\n",
    "def simulate_uni(seq):\n",
    "    \n",
    "    total = sum(seq)\n",
    "    prob = []\n",
    "    cum_prob = []\n",
    "    \n",
    "    rand = np.random.uniform(0,1)\n",
    "    \n",
    "    for i,k in enumerate(seq):\n",
    "        prob.append(k/total)\n",
    "        cum_prob.append(sum(prob)) # list has no attribute sum()\n",
    "        \n",
    "        if rand < cum_prob[i]:\n",
    "            break\n",
    "    return k\n",
    "\n",
    "for j in range(10):\n",
    "    res = simulate_uni([1,3,5,8,4])\n",
    "    print(res)\n",
    "        "
   ]
  },
  {
   "cell_type": "markdown",
   "metadata": {},
   "source": [
    "###### Question 7: Binomial Distribution\n",
    "An online shopping website (e.g., Amazon, Alibaba, etc.) wants to test out two versions of banners that will appear on the website’s top. The engineering team assigns the probability of visiting version A at 0.6 and version B at 0.4.\n",
    "* After 10,000 visits, there are 6050 visitors being exposed to version A, and 3950 people exposed to version B.\n",
    "* What is the probability that there are 6050 cases when the randomization process is correct?\n",
    "* In other words, the probability for version A is indeed 0.6."
   ]
  },
  {
   "cell_type": "code",
   "execution_count": 38,
   "metadata": {},
   "outputs": [
    {
     "data": {
      "text/plain": [
       "0.166"
      ]
     },
     "execution_count": 38,
     "metadata": {},
     "output_type": "execute_result"
    }
   ],
   "source": [
    "# simulate the prob of n_A >= 6050\n",
    "\n",
    "def simulate_bin(n = 10000, p = 0.6, B = 1000):\n",
    "    n_A = np.random.binomial(n, p, size = B)\n",
    "    return sum(n_A >= 6050) / B\n",
    "\n",
    "simulate_bin()"
   ]
  },
  {
   "cell_type": "markdown",
   "metadata": {},
   "source": [
    "###### Question 8: Poisson Distribution\n",
    "My medium blog has 500 visits per day, and the number of visits follows a Poisson distribution. Out of 1000 times, what is the ratio of more than 510 visits per day? Write a function to simulate the process."
   ]
  },
  {
   "cell_type": "code",
   "execution_count": 40,
   "metadata": {},
   "outputs": [
    {
     "data": {
      "text/plain": [
       "0.349"
      ]
     },
     "execution_count": 40,
     "metadata": {},
     "output_type": "execute_result"
    }
   ],
   "source": [
    "\n",
    "def simulate_poisson(n = 1000, lambd = 500):\n",
    "    \n",
    "    n_seq = np.random.poisson(lambd, size = n)\n",
    "    return sum(n_seq > 510)/n\n",
    "\n",
    "simulate_poisson()"
   ]
  },
  {
   "cell_type": "markdown",
   "metadata": {},
   "source": [
    "###### Question 9: Normal Distribution\n",
    "Write a function to generate X samples from a normal distribution and plot the histogram."
   ]
  },
  {
   "cell_type": "code",
   "execution_count": 44,
   "metadata": {},
   "outputs": [
    {
     "data": {
      "image/png": "[encoded data removed]",
      "text/plain": [
       "<matplotlib.figure.Figure at 0x7f8f4df37198>"
      ]
     },
     "metadata": {},
     "output_type": "display_data"
    }
   ],
   "source": [
    "import matplotlib.pyplot as plt\n",
    "\n",
    "def plot_hist(n = 100, mu = 2, sigma = 0.5):\n",
    "    \n",
    "    seq = np.random.normal(mu, sigma, size = n)\n",
    "    plt.hist(seq)\n",
    "    plt.show()\n",
    "\n",
    "plot_hist()"
   ]
  },
  {
   "cell_type": "markdown",
   "metadata": {},
   "source": [
    "##### 2. Some Interview Questions\n"
   ]
  },
  {
   "cell_type": "markdown",
   "metadata": {},
   "source": [
    "##### 2.1 Compute pi - wayfair\n",
    "\n",
    "* use bootstrap\n",
    "* generate uniform (x,y), add 1 if (x,y) is within or on the circle\n",
    "* $prob = pi / 4$ thus $pi = 4 * prob$"
   ]
  },
  {
   "cell_type": "code",
   "execution_count": 46,
   "metadata": {},
   "outputs": [],
   "source": [
    "def compute_pi(B = 1000):\n",
    "    cnt = 0\n",
    "    for b in range(B):\n",
    "        x = np.random.uniform(-1,1)\n",
    "        y = np.random.uniform(-1,1)\n",
    "        \n",
    "        if x**2 + y**2 <= 1:\n",
    "            cnt += 1\n",
    "    \n",
    "    return 4 * cnt / B"
   ]
  },
  {
   "cell_type": "code",
   "execution_count": 47,
   "metadata": {},
   "outputs": [
    {
     "data": {
      "text/plain": [
       "3.148"
      ]
     },
     "execution_count": 47,
     "metadata": {},
     "output_type": "execute_result"
    }
   ],
   "source": [
    "compute_pi(B = 10000)   "
   ]
  },
  {
   "cell_type": "markdown",
   "metadata": {},
   "source": [
    "##### Use of random.choice(candidates, replace, size)"
   ]
  },
  {
   "cell_type": "code",
   "execution_count": 59,
   "metadata": {},
   "outputs": [
    {
     "data": {
      "text/plain": [
       "array([6, 3, 5, 3, 2, 4, 3, 4, 2, 2, 1, 2, 2, 1, 1, 2, 4, 6, 5, 1])"
      ]
     },
     "execution_count": 59,
     "metadata": {},
     "output_type": "execute_result"
    }
   ],
   "source": [
    "np.random.seed(123)\n",
    "\n",
    "die_values = [1,2,3,4,5,6]\n",
    "\n",
    "np.random.choice(die_values, replace = True, size = 20) # replace = True default"
   ]
  },
  {
   "cell_type": "code",
   "execution_count": 60,
   "metadata": {},
   "outputs": [
    {
     "data": {
      "text/plain": [
       "array([4, 6, 3, 2, 5, 1])"
      ]
     },
     "execution_count": 60,
     "metadata": {},
     "output_type": "execute_result"
    }
   ],
   "source": [
    "np.random.choice(die_values, replace = False, size = 6) # size = 20 gave error"
   ]
  },
  {
   "cell_type": "markdown",
   "metadata": {},
   "source": [
    "##### Bootstrap to get the distribution of sample mean"
   ]
  },
  {
   "cell_type": "code",
   "execution_count": 64,
   "metadata": {},
   "outputs": [
    {
     "data": {
      "image/png": "[encoded data removed]",
      "text/plain": [
       "<matplotlib.figure.Figure at 0x7f8f4e15b320>"
      ]
     },
     "metadata": {},
     "output_type": "display_data"
    }
   ],
   "source": [
    "np.random.seed(123)\n",
    "pop = np.random.randint(0, 500, size = 5000)\n",
    "sample = np.random.choice(pop, replace = False, size = 1000)\n",
    "\n",
    "B = 1000\n",
    "sample_means = []\n",
    "\n",
    "for _ in range(B):\n",
    "    sample_n = np.random.choice(sample, size = 1000)\n",
    "    sample_means.append(sample_n.mean())\n",
    "    \n",
    "plt.hist(sample_means)\n",
    "plt.show()"
   ]
  },
  {
   "cell_type": "code",
   "execution_count": 66,
   "metadata": {},
   "outputs": [
    {
     "data": {
      "text/plain": [
       "(251.3244, 249.619, 249.565125)"
      ]
     },
     "execution_count": 66,
     "metadata": {},
     "output_type": "execute_result"
    }
   ],
   "source": [
    "pop.mean(), sample.mean(), np.mean(sample_means)"
   ]
  },
  {
   "cell_type": "markdown",
   "metadata": {},
   "source": [
    "##### 2.2 "
   ]
  }
 ],
 "metadata": {
  "kernelspec": {
   "display_name": "Python 3",
   "language": "python",
   "name": "python3"
  },
  "language_info": {
   "codemirror_mode": {
    "name": "ipython",
    "version": 3
   },
   "file_extension": ".py",
   "mimetype": "text/x-python",
   "name": "python",
   "nbconvert_exporter": "python",
   "pygments_lexer": "ipython3",
   "version": "3.6.3"
  }
 },
 "nbformat": 4,
 "nbformat_minor": 2
}

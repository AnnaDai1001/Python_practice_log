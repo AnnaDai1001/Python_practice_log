{
 "cells": [
  {
   "cell_type": "code",
   "execution_count": null,
   "metadata": {},
   "outputs": [],
   "source": [
    "# https://robbiegeoghegan.medium.com/implementing-a-b-tests-in-python-514e9eb5b3a1"
   ]
  },
  {
   "cell_type": "markdown",
   "metadata": {},
   "source": [
    "### AB test with Python\n",
    "A data from kaggle: https://www.kaggle.com/zhangluyuan/ab-testing"
   ]
  },
  {
   "cell_type": "code",
   "execution_count": 1,
   "metadata": {},
   "outputs": [],
   "source": [
    "# suppose we have load the data as df"
   ]
  },
  {
   "cell_type": "code",
   "execution_count": null,
   "metadata": {},
   "outputs": [],
   "source": [
    "# remove some wrong records:\n",
    "mask = ((df[\"group\"] == \"control\") & (df[\"landing_page\"] == \"new_page\")) | ((df[\"group\"] == \"treatment\") & (df[\"landing_page\"] == \"old_page\"))\n",
    "ix_to_drop = df[mask].index\n",
    "df = df.drop(ix_to_drop)"
   ]
  },
  {
   "cell_type": "code",
   "execution_count": null,
   "metadata": {},
   "outputs": [],
   "source": [
    "# Metric is conversion rate\n",
    "# H_0: difference = 0; H_1: difference != 0"
   ]
  },
  {
   "cell_type": "code",
   "execution_count": null,
   "metadata": {},
   "outputs": [],
   "source": [
    "mask = (df[\"group\"] == \"control\")\n",
    "conversions_control = df[\"converted\"][mask].sum()\n",
    "total_users_control = df[\"converted\"][mask].count()\n",
    "\n",
    "mask = (df[\"group\"] == \"treatment\")\n",
    "conversions_treatment = df[\"converted\"][mask].sum()\n",
    "total_users_treatment = df[\"converted\"][mask].count()"
   ]
  },
  {
   "cell_type": "code",
   "execution_count": null,
   "metadata": {},
   "outputs": [],
   "source": [
    "practical_sig = 0.01\n",
    "statistical_sig = 0.05\n",
    "power = 0.8\n",
    "baseline_rate = conversions_control/total_control\n",
    "\n",
    "def cal_sample_size(sig, power, p, practical_sig):\n",
    "    sigma_square = p*(1-p)\n",
    "    return 16*sigma_square/(practical_sig**2)\n",
    "\n",
    "sample_size = cal_sample_size(statistical_sig,\n",
    "                             power,\n",
    "                             baseline_rate,\n",
    "                             practical_sig)\n",
    "print(\"required sample size per group:\", round(sample_size))    "
   ]
  },
  {
   "cell_type": "code",
   "execution_count": null,
   "metadata": {},
   "outputs": [],
   "source": [
    "# calculate pooled rate to calculate the standard error\n",
    "prob_pooled = (conversions_control+conversions_treatment)/(total_users_control+total_users_treatment)\n",
    "se_pooled = math.sqrt(prob_pooled * (1-prob_pooled) * (1/total_users_control + 1/total_users_treatement))\n",
    "z_score = st.norm.ppf(1-statistical_sig)\n",
    "margin = se_pooled * z_score\n",
    "\n",
    "d_hat = conversions_treatment/total_users_treatment - conversions_control/total_users_control\n",
    "\n",
    "lower, upper = d_hat - margin, d_hat + margin\n",
    "\n",
    "if practical_sig < lower:\n",
    "    print(\"we should reject the null hypothesis\")\n",
    "else:\n",
    "    print(\"can not reject the null hypothesis\")"
   ]
  },
  {
   "cell_type": "code",
   "execution_count": null,
   "metadata": {},
   "outputs": [],
   "source": []
  },
  {
   "cell_type": "code",
   "execution_count": null,
   "metadata": {},
   "outputs": [],
   "source": [
    "# Another kernel: https://www.kaggle.com/tammyrotem/ab-tests-with-python"
   ]
  }
 ],
 "metadata": {
  "kernelspec": {
   "display_name": "Python 3",
   "language": "python",
   "name": "python3"
  },
  "language_info": {
   "codemirror_mode": {
    "name": "ipython",
    "version": 3
   },
   "file_extension": ".py",
   "mimetype": "text/x-python",
   "name": "python",
   "nbconvert_exporter": "python",
   "pygments_lexer": "ipython3",
   "version": "3.7.1"
  }
 },
 "nbformat": 4,
 "nbformat_minor": 2
}

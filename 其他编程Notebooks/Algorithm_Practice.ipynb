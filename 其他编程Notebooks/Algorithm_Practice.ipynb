{
 "cells": [
  {
   "cell_type": "code",
   "execution_count": 3,
   "metadata": {},
   "outputs": [],
   "source": [
    "import pandas as pd\n",
    "import numpy as np"
   ]
  },
  {
   "cell_type": "code",
   "execution_count": 4,
   "metadata": {},
   "outputs": [],
   "source": [
    "### Mock question on 8/21/2021"
   ]
  },
  {
   "cell_type": "code",
   "execution_count": 5,
   "metadata": {},
   "outputs": [],
   "source": [
    "# 可以用做实验数据\n",
    "states_df = pd.read_csv(\"https://raw.githubusercontent.com/cmdlinetips/data/master/us_states.tsv\", sep=\"\\t\")\n",
    "# states_df.head()"
   ]
  },
  {
   "cell_type": "markdown",
   "metadata": {},
   "source": [
    "## Tiktok面试 \n",
    "A table contains information of 'from' and 'to' relationship. Linking all the connected ones sequentially, get the max length of the connection"
   ]
  },
  {
   "cell_type": "code",
   "execution_count": 6,
   "metadata": {},
   "outputs": [],
   "source": [
    "df = pd.DataFrame(\n",
    "    {'id': [1,2,3,4],\n",
    "    'from': [1,2,2,3],\n",
    "    'to': [2,3,4,5]}\n",
    ")\n",
    "# type(df.id)； type(df['id']); type(df.loc[:,'id']) 以何种方式取出一列都会是pd series类型\n",
    "# df.id.values  其values是np array类型"
   ]
  },
  {
   "cell_type": "code",
   "execution_count": 12,
   "metadata": {},
   "outputs": [
    {
     "name": "stdout",
     "output_type": "stream",
     "text": [
      "User id [1] is the original creator\n"
     ]
    }
   ],
   "source": [
    "creater_id = df['from'][~df['from'].isin(df['to'])].values\n",
    "print(f\"User id {creater_id} is the original creator\")\n",
    "\n",
    "# 由DF的两列建立对应dict的两种方法\n",
    "\n",
    "d0 = df.groupby(['from'])['to'].apply(list).to_dict()\n",
    "\n",
    "# convert to dictionary of list - manually\n",
    "d = dict()\n",
    "for f,t in zip(df['from'],df['to']):\n",
    "#     print(f,t)\n",
    "    if f not in d:\n",
    "        d[f] = [t]\n",
    "    else:\n",
    "        d[f].append(t)"
   ]
  },
  {
   "cell_type": "code",
   "execution_count": 8,
   "metadata": {},
   "outputs": [
    {
     "ename": "AttributeError",
     "evalue": "'int' object has no attribute 'append'",
     "output_type": "error",
     "traceback": [
      "\u001b[1;31m---------------------------------------------------------------------------\u001b[0m",
      "\u001b[1;31mAttributeError\u001b[0m                            Traceback (most recent call last)",
      "\u001b[1;32m<ipython-input-8-cda5e3640730>\u001b[0m in \u001b[0;36m<module>\u001b[1;34m\u001b[0m\n\u001b[0;32m      4\u001b[0m         \u001b[0md\u001b[0m\u001b[1;33m[\u001b[0m\u001b[0mk\u001b[0m\u001b[1;33m]\u001b[0m \u001b[1;33m=\u001b[0m \u001b[0mv\u001b[0m\u001b[1;33m\u001b[0m\u001b[1;33m\u001b[0m\u001b[0m\n\u001b[0;32m      5\u001b[0m     \u001b[1;32melse\u001b[0m\u001b[1;33m:\u001b[0m\u001b[1;33m\u001b[0m\u001b[1;33m\u001b[0m\u001b[0m\n\u001b[1;32m----> 6\u001b[1;33m         \u001b[0md\u001b[0m\u001b[1;33m[\u001b[0m\u001b[0mk\u001b[0m\u001b[1;33m]\u001b[0m\u001b[1;33m.\u001b[0m\u001b[0mappend\u001b[0m\u001b[1;33m(\u001b[0m\u001b[0mv\u001b[0m\u001b[1;33m)\u001b[0m\u001b[1;33m\u001b[0m\u001b[1;33m\u001b[0m\u001b[0m\n\u001b[0m\u001b[0;32m      7\u001b[0m \u001b[1;33m\u001b[0m\u001b[0m\n\u001b[0;32m      8\u001b[0m \u001b[0mdf\u001b[0m\u001b[1;33m.\u001b[0m\u001b[0mgroupby\u001b[0m\u001b[1;33m(\u001b[0m\u001b[1;33m[\u001b[0m\u001b[1;34m'from'\u001b[0m\u001b[1;33m]\u001b[0m\u001b[1;33m)\u001b[0m\u001b[1;33m[\u001b[0m\u001b[1;34m'to'\u001b[0m\u001b[1;33m]\u001b[0m\u001b[1;33m.\u001b[0m\u001b[0mapply\u001b[0m\u001b[1;33m(\u001b[0m\u001b[0mlist\u001b[0m\u001b[1;33m)\u001b[0m\u001b[1;33m.\u001b[0m\u001b[0mto_dict\u001b[0m\u001b[1;33m(\u001b[0m\u001b[1;33m)\u001b[0m\u001b[1;33m\u001b[0m\u001b[1;33m\u001b[0m\u001b[0m\n",
      "\u001b[1;31mAttributeError\u001b[0m: 'int' object has no attribute 'append'"
     ]
    }
   ],
   "source": [
    "d = dict()\n",
    "for k,v in zip(df['from'], df['to']):\n",
    "    if k not in d:\n",
    "        d[k] = v\n",
    "    else:\n",
    "        d[k].append(v)\n",
    "        \n",
    "df.groupby(['from'])['to'].apply(list).to_dict()"
   ]
  },
  {
   "cell_type": "markdown",
   "metadata": {},
   "source": [
    "#### How Depth-First Search works?\n",
    "What do we do once have to solve a maze? We tend to take a route, keep going until we discover a dead end. When touching the dead end, we again come back and keep coming back till we see a path we didn't attempt before. Take that new route. Once more keep going until we discover a dead end. Take a come back again…"
   ]
  },
  {
   "cell_type": "code",
   "execution_count": 13,
   "metadata": {},
   "outputs": [
    {
     "name": "stdout",
     "output_type": "stream",
     "text": [
      "All paths include:\n",
      "[[1, 2], [1, 2, 3], [1, 2, 3, 5], [1, 2, 4]]\n",
      "Longest length of path\n",
      "4\n",
      "Longest path is\n",
      "[[1, 2, 3, 5]]\n"
     ]
    }
   ],
   "source": [
    "def dfs(graph, v, seen=None, path=None):\n",
    "    paths = []\n",
    "    for child in graph[v]:\n",
    "#         if child not in seen:\n",
    "        t_path=path+[child]\n",
    "        paths.append(t_path)\n",
    "        if child in graph:\n",
    "            paths.extend(dfs(graph, child, seen, t_path))\n",
    "    return paths \n",
    "\n",
    "paths = dfs(d,creater_id[0],[creater_id[0]],[creater_id[0]])\n",
    "\n",
    "print(\"All paths include:\")\n",
    "print(paths)\n",
    "print(\"Longest length of path\")\n",
    "max_l = max(len(p) for p in paths)\n",
    "print(max_l)\n",
    "max_path = [p for p in paths if len(p) == max_l]\n",
    "print(\"Longest path is\")\n",
    "print(max_path)"
   ]
  },
  {
   "cell_type": "code",
   "execution_count": 10,
   "metadata": {},
   "outputs": [],
   "source": [
    "graph = d\n",
    "def dfs(v):\n",
    "    if v not in graph or len(graph[v]) == 0:\n",
    "        return 0\n",
    "    return max(dfs(c) for c in graph[v]) + 1\n"
   ]
  },
  {
   "cell_type": "code",
   "execution_count": null,
   "metadata": {},
   "outputs": [],
   "source": []
  },
  {
   "cell_type": "code",
   "execution_count": 14,
   "metadata": {},
   "outputs": [],
   "source": [
    "graph = d\n",
    "def dfs(v):\n",
    "    if v not in graph or len(graph[v]) == 0:\n",
    "        return 0\n",
    "    return max([dfs(c) for c in graph[v]]) + 1"
   ]
  },
  {
   "cell_type": "code",
   "execution_count": 15,
   "metadata": {},
   "outputs": [
    {
     "data": {
      "text/plain": [
       "3"
      ]
     },
     "execution_count": 15,
     "metadata": {},
     "output_type": "execute_result"
    }
   ],
   "source": [
    "dfs(creater_id[0])"
   ]
  },
  {
   "cell_type": "code",
   "execution_count": 157,
   "metadata": {},
   "outputs": [],
   "source": [
    "visited = set()\n",
    "\n",
    "def dfs_visit(graph,v):\n",
    "    for child in graph[v]:\n",
    "        print(child)\n",
    "        if child in graph:\n",
    "            dfs_visit(graph,child)\n",
    "            \n",
    "print(creater_id[0])\n",
    "dfs_visit(d,creater_id[0])"
   ]
  },
  {
   "cell_type": "code",
   "execution_count": 162,
   "metadata": {},
   "outputs": [],
   "source": []
  },
  {
   "cell_type": "code",
   "execution_count": 163,
   "metadata": {},
   "outputs": [
    {
     "name": "stdout",
     "output_type": "stream",
     "text": [
      "1\n",
      "2\n",
      "3\n",
      "5\n",
      "4\n"
     ]
    }
   ],
   "source": []
  },
  {
   "cell_type": "code",
   "execution_count": null,
   "metadata": {},
   "outputs": [],
   "source": []
  },
  {
   "cell_type": "code",
   "execution_count": null,
   "metadata": {},
   "outputs": [],
   "source": []
  },
  {
   "cell_type": "markdown",
   "metadata": {},
   "source": [
    "### Find the median of unsorted array\n",
    "Builtin function: O(nlogn)\n",
    "\n",
    "Quicksort: O(n)\n",
    "\n",
    "For \"online\" data: heap O(nlogn)"
   ]
  },
  {
   "cell_type": "code",
   "execution_count": 176,
   "metadata": {},
   "outputs": [],
   "source": [
    "arr = [1,2,4,5,6,7,8,1,3,5,6,10,1,49]"
   ]
  },
  {
   "cell_type": "code",
   "execution_count": 168,
   "metadata": {},
   "outputs": [
    {
     "data": {
      "text/plain": [
       "5.0"
      ]
     },
     "execution_count": 168,
     "metadata": {},
     "output_type": "execute_result"
    }
   ],
   "source": [
    "import statistics\n",
    "statistics.median(arr)\n",
    "np.median(arr) # or np"
   ]
  },
  {
   "cell_type": "code",
   "execution_count": 177,
   "metadata": {},
   "outputs": [],
   "source": [
    "# Sort and find\n",
    "def my_median(l):\n",
    "    n = len(l)\n",
    "    l = sorted(l) # not in-place\n",
    "    if n%2 == 0:\n",
    "        return (l[n//2-1]+l[n//2])/2.0\n",
    "    else:\n",
    "        return l[n//2]\n",
    "my_median(arr) "
   ]
  },
  {
   "cell_type": "markdown",
   "metadata": {},
   "source": [
    "#### Quick sort: \n",
    "Sort an unsorted array"
   ]
  },
  {
   "cell_type": "code",
   "execution_count": 180,
   "metadata": {},
   "outputs": [
    {
     "name": "stdout",
     "output_type": "stream",
     "text": [
      "[1, 1, 1, 2, 3, 4, 5, 5, 6, 6, 7, 8, 10, 49]\n"
     ]
    }
   ],
   "source": [
    "# Quick sort using pivot to replace sorted()\n",
    "# O(nlogn) on average\n",
    "def quick_sort(l):\n",
    "    if len(l) <= 1:\n",
    "        return l\n",
    "    pivot = l.pop()\n",
    "    items_greater = []\n",
    "    items_lower = []\n",
    "    for item in l:\n",
    "        if item > pivot:\n",
    "            items_greater.append(item)\n",
    "        else:\n",
    "            items_lower.append(item)\n",
    "    return quick_sort(items_lower) + [pivot] + quick_sort(items_greater) \n",
    "print(quick_sort(arr))"
   ]
  },
  {
   "cell_type": "code",
   "execution_count": null,
   "metadata": {},
   "outputs": [],
   "source": [
    "def quick_sort(l):\n",
    "    if len(l) <= 1:\n",
    "        return l\n",
    "    pivot = l.pop()\n",
    "    items_greater = []\n",
    "    items_smaller = []\n",
    "    for item in l:\n",
    "        if item > pivot:\n",
    "            items_greater.append(item)\n",
    "        else:\n",
    "            items_smaller.append(item)\n",
    "    return quick_sort(items_lower) + [pivot] + quick_sort(items_greater)"
   ]
  },
  {
   "cell_type": "markdown",
   "metadata": {},
   "source": [
    "#### QuickSort to find median of unsorted array with O(n) time complexity\n",
    "From geeksfor geeks"
   ]
  },
  {
   "cell_type": "code",
   "execution_count": null,
   "metadata": {},
   "outputs": [],
   "source": [
    "# Python3 program to find median of\n",
    "# an array\n",
    "import random\n",
    "\n",
    "a, b = None, None;\n",
    "\n",
    "# Returns the correct position of\n",
    "# pivot element\n",
    "def Partition(arr, l, r) :\n",
    "\n",
    "\tlst = arr[r]; i = l; j = l;\n",
    "\twhile (j < r) :\n",
    "\t\tif (arr[j] < lst) :\n",
    "\t\t\tarr[i], arr[j] = arr[j],arr[i];\n",
    "\t\t\ti += 1;\n",
    "\t\t\n",
    "\t\tj += 1;\n",
    "\n",
    "\tarr[i], arr[r] = arr[r],arr[i];\n",
    "\treturn i;\n",
    "\n",
    "# Picks a random pivot element between\n",
    "# l and r and partitions arr[l..r]\n",
    "# around the randomly picked element\n",
    "# using partition()\n",
    "def randomPartition(arr, l, r) :\n",
    "\tn = r - l + 1;\n",
    "\tpivot = random.randrange(1, 100) % n;\n",
    "\tarr[l + pivot], arr[r] = arr[r], arr[l + pivot];\n",
    "\treturn Partition(arr, l, r);\n",
    "\n",
    "# Utility function to find median\n",
    "def MedianUtil(arr, l, r,\n",
    "\t\t\t\tk, a1, b1) :\n",
    "\n",
    "\tglobal a, b;\n",
    "\t\n",
    "\t# if l < r\n",
    "\tif (l <= r) :\n",
    "\t\t\n",
    "\t\t# Find the partition index\n",
    "\t\tpartitionIndex = randomPartition(arr, l, r);\n",
    "\t\t\n",
    "\t\t# If partion index = k, then\n",
    "\t\t# we found the median of odd\n",
    "\t\t# number element in arr[]\n",
    "\t\tif (partitionIndex == k) :\n",
    "\t\t\tb = arr[partitionIndex];\n",
    "\t\t\tif (a1 != -1) :\n",
    "\t\t\t\treturn;\n",
    "\t\t\t\t\n",
    "\t\t# If index = k - 1, then we get\n",
    "\t\t# a & b as middle element of\n",
    "\t\t# arr[]\n",
    "\t\telif (partitionIndex == k - 1) :\n",
    "\t\t\ta = arr[partitionIndex];\n",
    "\t\t\tif (b1 != -1) :\n",
    "\t\t\t\treturn;\n",
    "\t\t\t\t\n",
    "\t\t# If partitionIndex >= k then\n",
    "\t\t# find the index in first half\n",
    "\t\t# of the arr[]\n",
    "\t\tif (partitionIndex >= k) :\n",
    "\t\t\treturn MedianUtil(arr, l, partitionIndex - 1, k, a, b);\n",
    "\t\t\t\n",
    "\t\t# If partitionIndex <= k then\n",
    "\t\t# find the index in second half\n",
    "\t\t# of the arr[]\n",
    "\t\telse :\n",
    "\t\t\treturn MedianUtil(arr, partitionIndex + 1, r, k, a, b);\n",
    "\t\t\t\n",
    "\treturn;\n",
    "\n",
    "# Function to find Median\n",
    "def findMedian(arr, n) :\n",
    "\tglobal a;\n",
    "\tglobal b;\n",
    "\ta = -1;\n",
    "\tb = -1;\n",
    "\t\n",
    "\t# If n is odd\n",
    "\tif (n % 2 == 1) :\n",
    "\t\tMedianUtil(arr, 0, n - 1, n // 2, a, b);\n",
    "\t\tans = b;\n",
    "\t\t\n",
    "\t# If n is even\n",
    "\telse :\n",
    "\t\tMedianUtil(arr, 0, n - 1, n // 2, a, b);\n",
    "\t\tans = (a + b) // 2;\n",
    "\t\t\n",
    "\t# Print the Median of arr[]\n",
    "\tprint(\"Median = \" ,ans);\n",
    "\n",
    "\n",
    "# Driver code\n",
    "arr = [ 12, 3, 5, 7, 4, 19, 26 ];\n",
    "n = len(arr);\n",
    "findMedian(arr, n);\n",
    "\n",
    "# This code is contributed by AnkitRai01\n"
   ]
  },
  {
   "cell_type": "code",
   "execution_count": null,
   "metadata": {},
   "outputs": [],
   "source": []
  },
  {
   "cell_type": "markdown",
   "metadata": {},
   "source": [
    "#### Binary Search\n",
    "Identify whether an element in a sorted array"
   ]
  },
  {
   "cell_type": "code",
   "execution_count": 185,
   "metadata": {},
   "outputs": [
    {
     "name": "stdout",
     "output_type": "stream",
     "text": [
      "None\n"
     ]
    }
   ],
   "source": [
    "def binary_search(l, element):\n",
    "    begin_index, end_index = 0, len(l)-1 # be careful about the index boundary\n",
    "    while begin_index <= end_index:\n",
    "        mid_point = begin_index + (end_index - begin_index)//2 # important\n",
    "        mid_point_value = l[mid_point]\n",
    "        if element == mid_point_value:\n",
    "            return mid_point\n",
    "        elif element < mid_point_value:\n",
    "            end_index = mid_point - 1\n",
    "        else:\n",
    "            begin_index = mid_point + 1\n",
    "    return None\n",
    "seq = [1,2,4,5,6,8,9]\n",
    "ele = 12\n",
    "print(binary_search(seq, ele))\n",
    "# time complexity: O(logn)"
   ]
  },
  {
   "cell_type": "code",
   "execution_count": null,
   "metadata": {},
   "outputs": [],
   "source": [
    "def binary_search(l, element):\n",
    "    begin, end = 0, len(l)-1\n",
    "    while begin <= end:\n",
    "        mid_point = begin + (end - begin) // 2\n",
    "        mid_point_val = l[mid_point]\n",
    "        if element == mid_point_val:\n",
    "            return mid_point\n",
    "        elif element < mid_point_val:\n",
    "            end = mid_point - 1\n",
    "        else:\n",
    "            begin = mid_point + 1\n",
    "    return None"
   ]
  },
  {
   "cell_type": "markdown",
   "metadata": {},
   "source": [
    "### Find the highest occurrence element\n",
    "Find the highest occuring number in the list, in case of tie return both numbers.\n",
    "\n",
    "[2,4,3,5,2,6,3] this should return 2 and 3 both"
   ]
  },
  {
   "cell_type": "code",
   "execution_count": 200,
   "metadata": {},
   "outputs": [
    {
     "data": {
      "text/plain": [
       "[2]"
      ]
     },
     "execution_count": 200,
     "metadata": {},
     "output_type": "execute_result"
    }
   ],
   "source": [
    "\n",
    "def find_mode(nums):\n",
    "    d = dict()\n",
    "    max_freq = 0 \n",
    "    for num in nums:\n",
    "        if num not in d:\n",
    "            d[num] = 1\n",
    "        else:\n",
    "            d[num] += 1\n",
    "        max_freq = max(max_freq, d[num])\n",
    "    return [key for key,value in d.items() if value == max_freq]"
   ]
  },
  {
   "cell_type": "code",
   "execution_count": 201,
   "metadata": {},
   "outputs": [
    {
     "data": {
      "text/plain": [
       "[2, 6]"
      ]
     },
     "execution_count": 201,
     "metadata": {},
     "output_type": "execute_result"
    }
   ],
   "source": [
    "arr = [2,4,5,3,2,6,6]\n",
    "find_mode(arr)"
   ]
  },
  {
   "cell_type": "code",
   "execution_count": null,
   "metadata": {},
   "outputs": [],
   "source": []
  },
  {
   "cell_type": "markdown",
   "metadata": {},
   "source": [
    "### Amazon Music Two Sum Question\n",
    "Amazon music is working on a new feature to pair songs together to play while on bus.The goal of this feature is to select two songs from the list that will end exactly 30 secondsbefore the listener reaches their stop.You are tasked with writing the method that selects the songs from a list. Each song is assigned a unique id, numbered from 0 to N-1.\n",
    "\n",
    "Assumptions:\n",
    "\n",
    "You will pick exactly 2 songs.\n",
    "you cannot pick the same song twice.\n",
    "if you have multiple pais with the same total time, select the pair with the longest song.\n",
    "there are atleast 2 songs available.\n",
    "write an alorithm to return ID's of the 2 songs whose combined runtime will finish exactly 30 seconds before the bus arrives, keeping the original order. If no such pair is possible, return a pair with <-1,-1>.\n",
    "\n",
    "input:\n",
    "rideDuration = 90\n",
    "songDuration = {1,10,25,35,60}"
   ]
  },
  {
   "cell_type": "code",
   "execution_count": 222,
   "metadata": {},
   "outputs": [],
   "source": [
    "def find_songs(orig_target, songs):\n",
    "    target = orig_target - 30\n",
    "    res = []\n",
    "    l,r = 0,len(songs)-1\n",
    "    max_length = 0\n",
    "    while l<r:\n",
    "        temp_sum = songs[l] + songs[r]\n",
    "        if temp_sum == target:\n",
    "            if max_length < songs[r]:\n",
    "                max_length = songs[r]\n",
    "                res.append([l,r])\n",
    "            l += 1\n",
    "            r -= 1\n",
    "        elif temp_sum < target:\n",
    "            l += 1\n",
    "        else:\n",
    "            r -= 1\n",
    "    return res"
   ]
  },
  {
   "cell_type": "code",
   "execution_count": 223,
   "metadata": {},
   "outputs": [
    {
     "data": {
      "text/plain": [
       "[[2, 3]]"
      ]
     },
     "execution_count": 223,
     "metadata": {},
     "output_type": "execute_result"
    }
   ],
   "source": [
    "orig_target = 90\n",
    "songs = [1,10,25,35,60]\n",
    "find_songs(orig_target, songs)"
   ]
  },
  {
   "cell_type": "code",
   "execution_count": null,
   "metadata": {},
   "outputs": [],
   "source": []
  },
  {
   "cell_type": "markdown",
   "metadata": {},
   "source": [
    "### Leetcode Practice - Amazon Series"
   ]
  },
  {
   "cell_type": "markdown",
   "metadata": {},
   "source": [
    "##### LC 200 - Number of Islands - DFS\n",
    "Given an m x n 2D binary grid grid which represents a map of '1's (land) and '0's (water), return the number of islands.\n",
    "\n",
    "An island is surrounded by water and is formed by connecting adjacent lands horizontally or vertically. You may assume all four edges of the grid are all surrounded by water"
   ]
  },
  {
   "cell_type": "code",
   "execution_count": null,
   "metadata": {},
   "outputs": [],
   "source": [
    "class Solution:\n",
    "    def numberofIslands(grid):\n",
    "        # use DFS\n",
    "        m,n = len(grid), len(grid[0])\n",
    "        res = 0\n",
    "        for i in range(m):\n",
    "            for j in range(n):\n",
    "                if grid[i][j] == '1':\n",
    "                    res += 1\n",
    "                    self.dfs_changemarker(grid, i, j)\n",
    "        return res\n",
    "    \n",
    "    def dfs_changemarker(self, grid, x, y):\n",
    "        if 0 <= x < len(grid) and 0 <= y < len(grid[0]) and grid[x][y] == '1':\n",
    "            grid[x][y] = '2'\n",
    "            for dx,dy in [(-1,0), (1,0), (0,-1), (0,1)]:\n",
    "                self.dfs_changemarker(grid, x+dx, y+dy)"
   ]
  },
  {
   "cell_type": "code",
   "execution_count": null,
   "metadata": {},
   "outputs": [],
   "source": []
  },
  {
   "cell_type": "markdown",
   "metadata": {},
   "source": [
    "##### LC 2 - Two Sum - Hash\n",
    "Given an array of integers nums and an integer target, return indices of the two numbers such that they add up to target.\n",
    "\n",
    "You may assume that each input would have exactly one solution, and you may not use the same element twice.\n",
    "\n",
    "You can return the answer in any order.\n",
    "\n",
    "Input: nums = [2,7,11,15], target = 9\n",
    "\n",
    "Output: [0,1]\n",
    "\n",
    "Output: Because nums[0] + nums[1] == 9, we return [0, 1]."
   ]
  },
  {
   "cell_type": "code",
   "execution_count": null,
   "metadata": {},
   "outputs": [],
   "source": [
    "class Solution:\n",
    "    def twoSum_BF(self, nums, target): # O(N^2); O(1)\n",
    "        res = []\n",
    "        for i in range(len(nums)-1):\n",
    "            for j in range(i+1, len(nums)):\n",
    "                if nums[i] + nums[j] == target:\n",
    "                    res = [i,j]\n",
    "        return res\n",
    "    \n",
    "    def twoSum_dict(self, nums, target): # O(N); O(N)\n",
    "        comp_dict = dict()\n",
    "        for i in range(nums):\n",
    "            comp = target - nums[i]\n",
    "            if comp in comp_dict:\n",
    "                return [comp_dict[comp], i]\n",
    "            else:\n",
    "                comp_dict[nums[i]] = i"
   ]
  },
  {
   "cell_type": "markdown",
   "metadata": {},
   "source": [
    "##### LC 20 - Valid Parentheses\n",
    "Given a string s containing just the characters '(', ')', '{', '}', '[' and ']', determine if the input string is valid.\n",
    "\n",
    "An input string is valid if:\n",
    "* Open brackets must be closed by the same type of brackets.\n",
    "* Open brackets must be closed in the correct order.\n",
    "\n",
    "* Input: s = \"()[]{}\"\n",
    "* Output: true"
   ]
  },
  {
   "cell_type": "code",
   "execution_count": null,
   "metadata": {},
   "outputs": [],
   "source": [
    "class Solution:\n",
    "    def validParentheses(self, s):\n",
    "        d = {']': '[', ')': '(', '}': '{'}\n",
    "        stack = []\n",
    "        for c in s:\n",
    "            if c in [']', ')', '}']:\n",
    "                if len(stack) == 0 or d[c] != stack.pop():\n",
    "                    return False\n",
    "            else:\n",
    "                stack.append(c)\n",
    "        return True if len(stack) == 0 else False\n",
    "            \n",
    "        "
   ]
  },
  {
   "cell_type": "markdown",
   "metadata": {},
   "source": [
    "##### LC 297. Serialize and Deserialize Binary Tree\n",
    "Serialization is the process of converting a data structure or object into a sequence of bits so that it can be stored in a file or memory buffer, or transmitted across a network connection link to be reconstructed later in the same or another computer environment.\n",
    "\n",
    "Design an algorithm to serialize and deserialize a binary tree. There is no restriction on how your serialization/deserialization algorithm should work. You just need to ensure that a binary tree can be serialized to a string and this string can be deserialized to the original tree structure.\n"
   ]
  },
  {
   "cell_type": "code",
   "execution_count": null,
   "metadata": {},
   "outputs": [],
   "source": [
    "class Solution:\n",
    "    def "
   ]
  },
  {
   "cell_type": "markdown",
   "metadata": {},
   "source": [
    "##### LC 449. Serialize and Deserialize BST\n",
    "Serialization is converting a data structure or object into a sequence of bits so that it can be stored in a file or memory buffer, or transmitted across a network connection link to be reconstructed later in the same or another computer environment.\n",
    "\n",
    "Design an algorithm to serialize and deserialize a binary search tree. There is no restriction on how your serialization/deserialization algorithm should work. You need to ensure that a binary search tree can be serialized to a string, and this string can be deserialized to the original tree structure.\n",
    "\n",
    "##### NOT FLASH"
   ]
  },
  {
   "cell_type": "code",
   "execution_count": null,
   "metadata": {},
   "outputs": [],
   "source": [
    "class Codec:\n",
    "    def serialize(self, root):\n",
    "        path_preorder = []\n",
    "        def preorder(node):\n",
    "            if node:\n",
    "                path_preorder.append(node.val)\n",
    "                preorder(node.left)\n",
    "                preorder(node.right)\n",
    "        preorder(root)\n",
    "        return '#'.join(map(str, path_preorder))\n",
    "    \n",
    "    def deserialize(self, data):\n",
    "        if not data:\n",
    "            return None\n",
    "        \n",
    "        node_values = [int(v) for v in data.split('#')]\n",
    "        \n",
    "        def buildbst(lower, upper):\n",
    "            if node_values and lower < node_values[0] < upper:\n",
    "                curr_node_val = node_values.pop(0)\n",
    "                curr_node = TreeNode(curr_node_val)\n",
    "                \n",
    "                curr_node.left = buildbst(lower, curr_node_val)\n",
    "                curr_node.right = buildbst(curr_node_val, upper)\n",
    "                return curr_node # return a node each time; finally it's a tree\n",
    "        return buildbst(float('-inf'), float('inf'))"
   ]
  },
  {
   "cell_type": "markdown",
   "metadata": {},
   "source": [
    "##### 438. Find All Anagrams in a String\n",
    "Given two strings s and p, return an array of all the start indices of p's anagrams in s. You may return the answer in any order.\n",
    "\n",
    "An Anagram is a word or phrase formed by rearranging the letters of a different word or phrase, typically using all the original letters exactly once.\n",
    "\n",
    "##### NOT FLASH"
   ]
  },
  {
   "cell_type": "code",
   "execution_count": null,
   "metadata": {},
   "outputs": [],
   "source": [
    "class Solution:\n",
    "    def findAnagrams_BF(self, s, p): # TLE\n",
    "        k = len(p)\n",
    "        res = []\n",
    "        anagram = ''.join(sorted(p))\n",
    "        \n",
    "        for i in range(0, len(s)-k+1):\n",
    "            sub = s[i:(i+k)]\n",
    "            if ''.join(sorted(sub)) == anagram:\n",
    "                res.append(i)\n",
    "        return res\n",
    "    \n",
    "    def findAnagrams_SW(self, s, p): # TLE\n",
    "        # Sliding window\n",
    "        window_string = ''\n",
    "        window_start = 0\n",
    "        \n",
    "        res = []\n",
    "        anagram = ''.join(sorted(p))\n",
    "        k = len(p)\n",
    "        \n",
    "        for i in range(len(s)):\n",
    "            \n",
    "            window_string += s[i]\n",
    "            \n",
    "            if len(window_string) >= k:\n",
    "                if ''.join(sorted(window_string)) == anagram:\n",
    "                    res.append(window_start)\n",
    "                window_string = window_string[1:]\n",
    "                window_start += 1\n",
    "        return res\n",
    "        \n",
    "    def findAnagrams_SW_hash(self, s, p):\n",
    "        hashofp = sum([hash(c) for c in p])\n",
    "        k = len(p)\n",
    "        res = []\n",
    "        \n",
    "        window_string = s[:k]\n",
    "        hashofcurrent = sum([hash(c) for c in window_string])\n",
    "        if hashofp == hashofcurrent:\n",
    "            res.append(0)\n",
    "            \n",
    "        for i,c in enumerate(s[k:]):\n",
    "            hashof_current += hash(c) - hash(s[i])\n",
    "            if hashofp == hashofcurrent:\n",
    "                res.append(i+1)\n",
    "        return res\n",
    "            \n",
    "        \n",
    "        "
   ]
  },
  {
   "cell_type": "markdown",
   "metadata": {},
   "source": [
    "##### LC 5. Longest Palindromic Substring\n",
    "Some observations first: each char is a palindrome; if s[i->j] is palindrome then we need s[i]==s[j] and s[(i+1)->(j-1)] is palindrome as well or if j-i==1, just need the former condition\n",
    "\n",
    "Thus we can use DP\n",
    "\n",
    "##### NOT QUITE FLASH, STUCK ON DP update"
   ]
  },
  {
   "cell_type": "code",
   "execution_count": null,
   "metadata": {},
   "outputs": [],
   "source": [
    "class Solution:\n",
    "    def longestPalindrome(self, s):\n",
    "        k = len(s)\n",
    "        dp = [[False]*k for _ in range(k)]\n",
    "        max_l = 1\n",
    "        res = '' if not s else s[0]\n",
    "        \n",
    "        # Base cases\n",
    "        for i in range(k):\n",
    "            dp[i][i] = True\n",
    "        \n",
    "        # Update DP matrix\n",
    "        \n",
    "        for i in range(k-1, -1, -1):\n",
    "            for j in range(i+1, k):\n",
    "                if s[i] == s[j]:\n",
    "                    if j-i == 1 or dp[i+1][j-1] is True:\n",
    "                        dp[i][j] = True\n",
    "                        if len(s[i:j+1]) > max_l:\n",
    "                            max_l = len(s[i:j+1])\n",
    "                            res = s[i:j+1]\n",
    "        return res"
   ]
  },
  {
   "cell_type": "markdown",
   "metadata": {},
   "source": [
    "##### LC 42. Trapping Rain Water\n",
    "Given n non-negative integers representing an elevation map where the width of each bar is 1, compute how much water it can trap after raining.\n",
    "\n",
    "1. Need to find the pattern: at each bar the highest we can trap is min(left_highest, right_highest) - height[i]\n",
    "2. When trying to find the right_highest, be careful with the index it should be correspondingly. So define the list first and then update list by indice rather than append."
   ]
  },
  {
   "cell_type": "code",
   "execution_count": null,
   "metadata": {},
   "outputs": [],
   "source": [
    "class Solution:\n",
    "    def trapWater(self, height):\n",
    "        right_highest = []\n",
    "        left_highest = []\n",
    "        max_r = 0\n",
    "        max_l = 0\n",
    "        \n",
    "        k = len(height)\n",
    "        water = []\n",
    "        \n",
    "        for i in range(k):\n",
    "            max_l = max(max_l, height[i])\n",
    "            left_highest.append(max_l)\n",
    "        \n",
    "        for i in range(k-1,-1,-1):\n",
    "            max_r = max(max_r, height[i])\n",
    "            right_highest.append(max_r)\n",
    "        \n",
    "        for i in range(k):\n",
    "            water.append(min(left_highest[i], right_highest[i]) - height[i])\n",
    "        \n",
    "        return sum(water)\n",
    "        "
   ]
  },
  {
   "cell_type": "markdown",
   "metadata": {},
   "source": [
    "##### LC 121. Best Time to Buy and Sell Stock\n",
    "\n",
    "You are given an array prices where prices[i] is the price of a given stock on the ith day.\n",
    "\n",
    "You want to maximize your profit by choosing a single day to buy one stock and choosing a different day in the future to sell that stock.\n",
    "\n",
    "Return the maximum profit you can achieve from this transaction. If you cannot achieve any profit, return 0."
   ]
  },
  {
   "cell_type": "code",
   "execution_count": null,
   "metadata": {},
   "outputs": [],
   "source": [
    "class Solution:\n",
    "    def buySell(prices):\n",
    "        # BF with nested loops : O(N^2)\n",
    "        # keep track of the min price\n",
    "        min_price = prices[0]\n",
    "        max_profit = 0\n",
    "        \n",
    "        for p in prices:\n",
    "            min_price = min(min_price, p)\n",
    "            max_profit = max(max_profit, p - m_price)\n",
    "        return max_profit"
   ]
  },
  {
   "cell_type": "markdown",
   "metadata": {},
   "source": [
    "##### LC 239. Sliding Window Maximum\n",
    "\n",
    "You are given an array of integers nums, there is a sliding window of size k which is moving from the very left of the array to the very right. You can only see the k numbers in the window. Each time the sliding window moves right by one position.\n",
    "\n",
    "Return the max sliding window.\n",
    "\n",
    "##### NOT FLASH FOR THE NON-TLE METHOD"
   ]
  },
  {
   "cell_type": "code",
   "execution_count": null,
   "metadata": {},
   "outputs": [],
   "source": [
    "class Solution:\n",
    "    def slideWmax(self, nums, k):\n",
    "        deque = [] # store the index of max when sliding the window\n",
    "        res = []\n",
    "        \n",
    "        for i,num in enumerate(nums):\n",
    "            while deque and nums[deque[-1]] < num:\n",
    "                deque.pop()\n",
    "            if deque and i - deque[0] == k:\n",
    "                deque.pop(0)\n",
    "                \n",
    "            deque.append(i)\n",
    "            res.append(nums[deque[0]])\n",
    "        return res[k-1:]"
   ]
  },
  {
   "cell_type": "markdown",
   "metadata": {},
   "source": [
    "#####  LC 206. Reverse Linked List\n",
    "Given the head of a singly linked list, reverse the list, and return the reversed list.\n",
    "\n",
    "Input: head = [1,2,3,4,5]\n",
    "Output: [5,4,3,2,1]"
   ]
  },
  {
   "cell_type": "code",
   "execution_count": null,
   "metadata": {},
   "outputs": [],
   "source": [
    "class Solution:\n",
    "    def reverseLinkedList1(self, head): # Recursion\n",
    "        if not head or not head.next:\n",
    "            return head # this base case is really important\n",
    "        new_head = self.reverseLinkedList(head.next)\n",
    "        head.next.next, head.next = head, None\n",
    "        return new_head\n",
    "    \n",
    "    def reverseLinkedList2(self, head): # Iterative\n",
    "        prev = None\n",
    "        curr = head\n",
    "        \n",
    "        while curr:\n",
    "            temp = curr.next # save the next pos\n",
    "            curr.next = prev # reverse the arrow\n",
    "            prev, curr = curr, temp # move pointers\n",
    "        return prev\n",
    "        "
   ]
  },
  {
   "cell_type": "code",
   "execution_count": null,
   "metadata": {},
   "outputs": [],
   "source": []
  },
  {
   "cell_type": "markdown",
   "metadata": {},
   "source": [
    "##### LC 692. Top K Frequent Words\n",
    "Given an array of strings words and an integer k, return the k most frequent strings.\n",
    "\n",
    "Return the answer sorted by the frequency from highest to lowest. Sort the words with the same frequency by their lexicographical order.\n",
    "\n",
    "Format of heap is (key, value) where key can be a tuple and will be used to order elements. But elements in heap are still from min to max."
   ]
  },
  {
   "cell_type": "code",
   "execution_count": null,
   "metadata": {},
   "outputs": [],
   "source": [
    "class WrapString:\n",
    "    def __init__(self, string):\n",
    "        self.val = string\n",
    "    def __eq__(self, other):\n",
    "        return self.val == other.val\n",
    "    def __lt__(self, other):\n",
    "        return self.val > other.val\n",
    "\n",
    "class Solution:\n",
    "    def topKwords(self, words, k):\n",
    "        counter = dict()\n",
    "        for word in words:\n",
    "            if word not in counter:\n",
    "                counter[word] = 1\n",
    "            else:\n",
    "                counter[word] += 1\n",
    "        return sorted(counter, key = lambda x: (-counter[x], x))[:k]\n",
    "\n",
    "    \n",
    "    def topKwords_heap(self, words, k): # use mini heap so we can keep the maximum; \n",
    "        # for alphabetic order, need to define a string class with the reversed order\n",
    "        \n",
    "        word_counts = Counter(words)\n",
    "        min_heap = []\n",
    "        for word in word_counts:\n",
    "            heapq.heappush(min_heap, ((word_counts[word], WrapString(word)), word))\n",
    "            if len(min_heap) > k:\n",
    "                heapq.heappop(min_heap)\n",
    "        return [heapq.heappop(min_heap)[1] for _ in range(len(min_heap))][::-1] # need to return the word list!!!\n",
    "        "
   ]
  },
  {
   "cell_type": "markdown",
   "metadata": {},
   "source": [
    "##### LC 21. Merge Two Sorted Lists\n",
    "Merge two sorted linked lists and return it as a sorted list. The list should be made by splicing together the nodes of the first two lists.\n",
    "\n",
    "Input: l1 = [1,2,4], l2 = [1,3,4]\n",
    "Output: [1,1,2,3,4,4]\n",
    "\n",
    "##### FLASH"
   ]
  },
  {
   "cell_type": "code",
   "execution_count": null,
   "metadata": {},
   "outputs": [],
   "source": [
    "class Solution:\n",
    "    def merge2SortedList(self, l1, l2): # recursion \n",
    "        if not l1: return l2 # these two end cases are really important\n",
    "        if not l2: return l1\n",
    "        \n",
    "        if l1.val < l2.val:\n",
    "            ans = ListNode(l1.val)\n",
    "            ans.next = self.merge2SortedList(l1.next, l2)\n",
    "        else:\n",
    "            ans = ListNode(l2.val)\n",
    "            ans.next = self.merge2SortedList(l1, l2.next)\n",
    "        return ans\n",
    "    \n",
    "    def merge2SortedList(self, l1, l2): # iteration\n",
    "        \n",
    "        head = sorted_list = ListNode(0) # anchor\n",
    "        \n",
    "        while l1 and l2:\n",
    "            if l1.val < l2.val:\n",
    "                sorted_list.next = ListNode(l1.val)\n",
    "                l1 = l1.next\n",
    "                sorted_list = sorted_list.next\n",
    "            else:\n",
    "                sorted_list.next = ListNode(l2.val)\n",
    "                l2 = l2.next\n",
    "                sorted_list = sorted_list.next\n",
    "                \n",
    "        sorted_list.next = l1 or l2\n",
    "        return head.next"
   ]
  },
  {
   "cell_type": "code",
   "execution_count": null,
   "metadata": {},
   "outputs": [],
   "source": []
  },
  {
   "cell_type": "markdown",
   "metadata": {},
   "source": [
    "##### LC 98. Validate Binary Search Tree\n",
    "\n",
    "Given the root of a binary tree, determine if it is a valid binary search tree (BST).\n",
    "\n",
    "A valid BST is defined as follows:\n",
    "\n",
    "* The left subtree of a node contains only nodes with keys less than the node's key.\n",
    "* The right subtree of a node contains only nodes with keys greater than the node's key.\n",
    "* Both the left and right subtrees must also be binary search trees.\n",
    "\n",
    "Input: root = [2,1,3]\n",
    "Output: true\n",
    "\n",
    "##### NOT FLASH, BE SLOW AND CAREFUL"
   ]
  },
  {
   "cell_type": "code",
   "execution_count": null,
   "metadata": {},
   "outputs": [],
   "source": [
    "class Solution:\n",
    "    def validBST(self, root):\n",
    "        \n",
    "        def validNode(node, lower_bound, upper_bound):\n",
    "            if not node:\n",
    "                return True\n",
    "            if lower_bound < node.val < upper_bound:\n",
    "                return validNode(node.left, lower_bound, node.val) and validNode(node.right, node.val, upper_bound)\n",
    "            else:\n",
    "                return False\n",
    "        return validNode(root, float('-inf'), float('inf')) # CHECK WHAT PARAMETERS ARE NEEDED!"
   ]
  },
  {
   "cell_type": "markdown",
   "metadata": {},
   "source": [
    "##### LC 234. Palindrome Linked List\n",
    "Given the head of a singly linked list, return true if it is a palindrome.\n",
    "\n",
    "Input: head = [1,2,2,1]\n",
    "Output: true"
   ]
  },
  {
   "cell_type": "code",
   "execution_count": null,
   "metadata": {},
   "outputs": [],
   "source": [
    "class Solution:\n",
    "    def isPalindrome(self, head: Optional[ListNode]) -> bool:\n",
    "        if not head or not head.next:\n",
    "            return True\n",
    "        nodes_value = []\n",
    "        while head:\n",
    "            nodes_value.append(head.val)\n",
    "            head = head.next\n",
    "        return nodes_value == nodes_value[::-1]"
   ]
  },
  {
   "cell_type": "markdown",
   "metadata": {},
   "source": [
    "##### LC 449. Serialize and Deserialize BST - 2nd time\n",
    "Input: root = [2,1,3]\n",
    "Output: [2,1,3]\n",
    "\n",
    "##### NOT FLASH NOT ACE!!!"
   ]
  },
  {
   "cell_type": "code",
   "execution_count": null,
   "metadata": {},
   "outputs": [],
   "source": [
    "class Codec:\n",
    "    def serialize(self, root): # need to output string\n",
    "        path_preorder = []\n",
    "        \n",
    "        def preorder(node):\n",
    "            if node:\n",
    "                path_preorder.append(node.val)\n",
    "                preorder(node.left)\n",
    "                preorder(node.right)\n",
    "                \n",
    "        preorder(root)\n",
    "        return '#'.join(map(str, path_preorder))\n",
    "    \n",
    "    def deserialize(self, data):\n",
    "        if not data: return None\n",
    "        nodes_values = [int(c) for c in data.split('#')] # build a tree from preorder\n",
    "        # validate and if true add node\n",
    "        def buildbst(lower_bound, upper_bound): # forgot the :\n",
    "            if nodes_values and lower_bound < nodes_values[0] < upper_bound:\n",
    "                curr_node_val = nodes_values.pop(0)\n",
    "                curr_node = TreeNode(curr_node_val) # It's TreeNode rather than ListNode, debug 20min here!!\n",
    "\n",
    "                curr_node.left = buildbst(lower_bound, curr_node_val)\n",
    "                curr_node.right = buildbst(curr_node_val, upper_bound)\n",
    "\n",
    "                return curr_node\n",
    "        return buildbst(float('-inf'), float('inf'))        "
   ]
  },
  {
   "cell_type": "markdown",
   "metadata": {},
   "source": [
    "##### LC 242. Valid Anagram\n",
    "Given two strings s and t, return true if t is an anagram of s, and false otherwise.\n",
    "\n",
    "##### FLASH; ACE"
   ]
  },
  {
   "cell_type": "code",
   "execution_count": 1,
   "metadata": {},
   "outputs": [],
   "source": [
    "class Solution:\n",
    "    def validanagram(self, s, t): # sorted\n",
    "        return ''.join(sorted(s)) == ''.join(sorted(t))\n",
    "    def validanagram(self, s, t): # counter\n",
    "        d_s = Counter(s)\n",
    "        d_t = Counter(t)\n",
    "        \n",
    "        return d_s == d_t"
   ]
  },
  {
   "cell_type": "code",
   "execution_count": null,
   "metadata": {},
   "outputs": [],
   "source": []
  },
  {
   "cell_type": "markdown",
   "metadata": {},
   "source": [
    "##### LC 167. Two Sum II - Input array is sorted\n",
    "Given an array of integers numbers that is already sorted in non-decreasing order, find two numbers such that they add up to a specific target number.\n",
    "\n",
    "Return the indices of the two numbers (1-indexed) as an integer array answer of size 2, where 1 <= answer[0] < answer[1] <= numbers.length.\n",
    "\n",
    "The tests are generated such that there is exactly one solution. You may not use the same element twice.\n",
    "\n",
    "* Input: numbers = [2,7,11,15], target = 9\n",
    "* Output: [1,2]\n",
    "\n",
    "##### FLASH"
   ]
  },
  {
   "cell_type": "code",
   "execution_count": 3,
   "metadata": {},
   "outputs": [],
   "source": [
    "class Solution:\n",
    "    def twoSum(self, numbers, target):\n",
    "        l, r = 0, len(numbers) - 1\n",
    "        while l < r:\n",
    "            temp = numbers[l] + numbers[r]\n",
    "            if target == temp:\n",
    "                return [l+1, r+1]\n",
    "            elif target > temp:\n",
    "                l += 1\n",
    "            else:\n",
    "                r -= 1"
   ]
  },
  {
   "cell_type": "markdown",
   "metadata": {},
   "source": [
    "##### LC 186 Reverse Words in a String - Locked"
   ]
  },
  {
   "cell_type": "markdown",
   "metadata": {},
   "source": [
    "##### LC 3Sum\n",
    "Given an integer array nums, return all the triplets [nums[i], nums[j], nums[k]] such that i != j, i != k, and j != k, and nums[i] + nums[j] + nums[k] == 0.\n",
    "\n",
    "Notice that the solution set must not contain duplicate triplets.\n",
    "\n",
    "* Input: nums = [-1,0,1,2,-1,-4]\n",
    "* Output: [[-1,-1,2],[-1,0,1]]\n",
    "\n",
    "##### FLASH NOT ACE"
   ]
  },
  {
   "cell_type": "code",
   "execution_count": 4,
   "metadata": {},
   "outputs": [],
   "source": [
    "class Solution:\n",
    "    def threeSum(self, nums, target):\n",
    "        nums.sort()\n",
    "        res = []\n",
    "        \n",
    "        for i in range(len(nums)-2):\n",
    "            # Need to avoid the same first element as well\n",
    "            if i > 0 and nums[i] == nums[i-1]:\n",
    "                continue\n",
    "            \n",
    "            new_target = -nums[i]\n",
    "            l, r = i+1, len(nums)-1\n",
    "            \n",
    "            while l < r:\n",
    "                temp_sum = nums[l] + nums[r]\n",
    "                if temp_sum == new_target:\n",
    "                    res.append([nums[i], nums[l], nums[r]])\n",
    "                    l += 1\n",
    "                    r -=1\n",
    "                    while l<r and nums[l-1] == nums[l]:\n",
    "                        l += 1\n",
    "                    while l<r and nums[r+1] == nums[r]:\n",
    "                        r -= 1\n",
    "                elif temp_sum < new_target:\n",
    "                    l += 1\n",
    "                else:\n",
    "                    r -= 1\n",
    "        return res"
   ]
  },
  {
   "cell_type": "markdown",
   "metadata": {},
   "source": [
    "##### LC 516. Longest Palindromic Subsequence\n",
    "Given a string s, find the longest palindromic subsequence's length in s.\n",
    "\n",
    "A subsequence is a sequence that can be derived from another sequence by deleting some or no elements without changing the order of the remaining elements.\n",
    "\n",
    "* Input: s = \"bbbab\"\n",
    "* Output: 4\n",
    "\n",
    "##### SMART NOT FLASH NOT ACE"
   ]
  },
  {
   "cell_type": "code",
   "execution_count": null,
   "metadata": {},
   "outputs": [],
   "source": [
    "# DP with Recursion\n",
    "\n",
    "class Solution:\n",
    "    def longestPalindromeSubseq(self, s: str) -> int:\n",
    "        l = len(s)\n",
    "        # observed the following\n",
    "        # if s[i] = s[j]: length = dp(i+1, j-1) + 2\n",
    "        # otherwise: length = max(dp(i,j-1), dp(i+1, j))\n",
    "        from functools import lru_cache\n",
    "        @lru_cache(None)\n",
    "        def dp(i,j):\n",
    "            if i == j:\n",
    "                return 1\n",
    "            elif i > j:\n",
    "                return 0\n",
    "            if s[i] == s[j]:\n",
    "                return dp(i+1, j-1) + 2\n",
    "            else:\n",
    "                return max([dp(i, j-1), dp(i+1, j)])\n",
    "        \n",
    "        return dp(0, l-1)\n",
    "        "
   ]
  },
  {
   "cell_type": "markdown",
   "metadata": {},
   "source": [
    "##### LC 414. Third Maximum Number\n",
    "Given integer array nums, return the third maximum number in this array. If the third maximum does not exist, return the maximum number.\n",
    "\n",
    "* Input: nums = [3,2,1]\n",
    "* Output: 1\n"
   ]
  },
  {
   "cell_type": "code",
   "execution_count": null,
   "metadata": {},
   "outputs": [],
   "source": [
    "class Solution:\n",
    "    def thirdMax(self, nums):\n",
    "        n, Top = list(set(nums)), [float('-inf')]*3\n",
    "        for i in n:\n",
    "            if i > Top[0]:\n",
    "                Top = [i, Top[0], Top[1]]\n",
    "                continue\n",
    "            elif i > Top[1]:\n",
    "                Top = [Top[0], i, Top[1]]\n",
    "                continue\n",
    "            elif i > Top[2]:\n",
    "                Top = [Top[0], Top[1], i]\n",
    "        return Top[2] if Top[2] != float('-inf') else Top[0]\n",
    "        \n",
    "        # unique_nums = set(nums)\n",
    "        # unique_nums = sorted(unique_nums, reverse = True)\n",
    "        # return unique_nums[2] if len(unique_nums) > 2 else unique_nums[0]"
   ]
  },
  {
   "cell_type": "markdown",
   "metadata": {},
   "source": [
    "##### LC 567. Permutation in String\n",
    "Given two strings s1 and s2, return true if s2 contains a permutation of s1, or false otherwise.\n",
    "\n",
    "In other words, return true if one of s1's permutations is the substring of s2.\n",
    "\n",
    "* Input: s1 = \"ab\", s2 = \"eidbaooo\"\n",
    "* Output: true\n",
    "\n",
    "##### FLASH"
   ]
  },
  {
   "cell_type": "code",
   "execution_count": 5,
   "metadata": {},
   "outputs": [],
   "source": [
    "class Solution:\n",
    "    def permutationString_BF(self, s1, s2):\n",
    "        l1, l2 = len(s1), len(s2)\n",
    "        anagram = ''.join(sorted(s1))\n",
    "        for i in range(l2-l1+1):\n",
    "            sub = s2[i:i+l1]\n",
    "            if ''.join(sorted(s1)) == anagram:\n",
    "                return True\n",
    "        return False\n",
    "    \n",
    "    def permutationString_SW(self, s1, s2):\n",
    "        window_string = ''\n",
    "        anagram = ''.join(sorted(s1))\n",
    "        l1, l2 = len(s1), len(s2)\n",
    "        for i in range(l2):\n",
    "            window_string += s2[i]\n",
    "            if len(window_string) == l1:\n",
    "                if ''.join(sorted(window_string)) == anagram:\n",
    "                    return True\n",
    "                window_string = window_string[1:]\n",
    "        return False"
   ]
  },
  {
   "cell_type": "code",
   "execution_count": null,
   "metadata": {},
   "outputs": [],
   "source": []
  },
  {
   "cell_type": "markdown",
   "metadata": {},
   "source": [
    "##### LC 7. Reverse Integer\n",
    "Given a signed 32-bit integer x, return x with its digits reversed. If reversing x causes the value to go outside the signed 32-bit integer range [-2^31, 2^31 - 1], then return 0.\n",
    "\n",
    "Assume the environment does not allow you to store 64-bit integers (signed or unsigned).\n",
    "\n",
    "* Input: x = 123\n",
    "* Output: 321\n",
    "\n",
    "##### FLASH"
   ]
  },
  {
   "cell_type": "code",
   "execution_count": null,
   "metadata": {},
   "outputs": [],
   "source": [
    "class Solution:\n",
    "    def reverseInt(self, x):\n",
    "        new_x = int(str(abs(x))[::-1]) if x >= 0 else -int(str(abs(x))[::-1])\n",
    "        if new_x < - 2**31 or new_x > 2**31-1:\n",
    "            new_x = 0\n",
    "        return new_x"
   ]
  },
  {
   "cell_type": "markdown",
   "metadata": {},
   "source": [
    "##### LC 287. Find the Duplicate Number\n",
    "Given an array of integers nums containing n + 1 integers where each integer is in the range [1, n] inclusive.\n",
    "\n",
    "There is only one repeated number in nums, return this repeated number.\n",
    "\n",
    "You must solve the problem without modifying the array nums and uses only constant extra space.\n",
    "\n",
    "* Input: nums = [1,3,4,2,2]\n",
    "* Output: 2\n",
    "\n",
    "##### FLASH"
   ]
  },
  {
   "cell_type": "code",
   "execution_count": 6,
   "metadata": {},
   "outputs": [],
   "source": [
    "class Solution:\n",
    "    def findDuplicate_C(self, nums):\n",
    "        # only one repeated, so can use Counter\n",
    "        d = Counter(nums)\n",
    "        res = [k for k,v in d.items() if v > 1]\n",
    "        return res[0]\n",
    "    \n",
    "    def findDuplicate_Marker(self, nums):\n",
    "        res = 0\n",
    "        for num in nums:\n",
    "            if nums[abs(num)] < 0:\n",
    "                res = abs(num)\n",
    "                break\n",
    "            nums[abs(num)] = -nums[abs(num)]\n",
    "        \n",
    "        for i in range(len(nums)):\n",
    "            nums[i] = abs(nums[i])\n",
    "        return res"
   ]
  },
  {
   "cell_type": "markdown",
   "metadata": {},
   "source": [
    "##### LC 442. Find All Duplicates in an Array\n",
    "Given an integer array nums of length n where all the integers of nums are in the range [1, n] and each integer appears once or twice, return an array of all the integers that appears twice.\n",
    "\n",
    "You must write an algorithm that runs in O(n) time and uses only constant extra space.\n",
    "\n",
    "* Input: nums = [4,3,2,7,8,2,3,1]\n",
    "* Output: [2,3]\n",
    "\n",
    "##### FLASH"
   ]
  },
  {
   "cell_type": "code",
   "execution_count": 7,
   "metadata": {},
   "outputs": [],
   "source": [
    "class Solution:\n",
    "    def findDuplicates(self, nums):\n",
    "        # Counter() & set() will use O(n) space, so could not\n",
    "        n = len(nums)\n",
    "        res = []\n",
    "        for num in nums:\n",
    "            if nums[abs(num)-1] < 0:\n",
    "                res.append(abs(num))\n",
    "            nums[abs(num)-1] = -nums[abs(num)-1] \n",
    "        for i in range(n):\n",
    "            nums[i] = abs(nums[i])\n",
    "        return res\n",
    "        "
   ]
  },
  {
   "cell_type": "markdown",
   "metadata": {},
   "source": [
    "##### LC 26. Remove Duplicates from Sorted Array\n",
    "Given an integer array nums sorted in non-decreasing order, remove the duplicates in-place such that each unique element appears only once. The relative order of the elements should be kept the same.\n",
    "\n",
    "Since it is impossible to change the length of the array in some languages, you must instead have the result be placed in the first part of the array nums. More formally, if there are k elements after removing the duplicates, then the first k elements of nums should hold the final result. It does not matter what you leave beyond the first k elements.\n",
    "\n",
    "Return k after placing the final result in the first k slots of nums.\n",
    "\n",
    "Do not allocate extra space for another array. You must do this by modifying the input array in-place with O(1) extra memory.\n",
    "\n",
    "* Input: nums = [1,1,2]\n",
    "* Output: 2, nums = [1,2,_]\n",
    "\n",
    "##### FLASH"
   ]
  },
  {
   "cell_type": "code",
   "execution_count": 8,
   "metadata": {},
   "outputs": [],
   "source": [
    "class Solution:\n",
    "    def removeDuplicates(self, nums):\n",
    "        slower = 0\n",
    "        for faster in range(len(nums)): # better to start with slower+1 to avoid waster\n",
    "            if nums[faster] != nums[slower]:\n",
    "                slower += 1\n",
    "                nums[slower] = nums[faster]\n",
    "        return slower+1 # length"
   ]
  },
  {
   "cell_type": "markdown",
   "metadata": {},
   "source": [
    "##### LC 27. Remove Element\n",
    "Given an integer array nums and an integer val, remove all occurrences of val in nums in-place. The relative order of the elements may be changed.\n",
    "\n",
    "Since it is impossible to change the length of the array in some languages, you must instead have the result be placed in the first part of the array nums. More formally, if there are k elements after removing the duplicates, then the first k elements of nums should hold the final result. It does not matter what you leave beyond the first k elements.\n",
    "\n",
    "Return k after placing the final result in the first k slots of nums.\n",
    "\n",
    "Do not allocate extra space for another array. You must do this by modifying the input array in-place with O(1) extra memory.\n",
    "\n",
    "* Input: nums = [3,2,2,3], val = 3\n",
    "* Output: 2, nums = [2,2,_,_]\n",
    "\n",
    "##### FLASH"
   ]
  },
  {
   "cell_type": "code",
   "execution_count": 9,
   "metadata": {},
   "outputs": [],
   "source": [
    "class Solution:\n",
    "    def removeElement(self, nums, val):\n",
    "        slower = 0\n",
    "        for faster in range(len(nums)):\n",
    "            if nums[faster] != val:\n",
    "                nums[slower] = nums[faster]\n",
    "                slower += 1\n",
    "        return slower"
   ]
  },
  {
   "cell_type": "markdown",
   "metadata": {},
   "source": [
    "##### LC 98. Validate Binary Search Tree\n",
    "Given the root of a binary tree, determine if it is a valid binary search tree (BST).\n",
    "\n",
    "A valid BST is defined as follows:\n",
    "\n",
    "* The left subtree of a node contains only nodes with keys less than the node's key.\n",
    "* The right subtree of a node contains only nodes with keys greater than the node's key.\n",
    "* Both the left and right subtrees must also be binary search trees.\n",
    "\n",
    "##### FLASH BUT NOT ACE"
   ]
  },
  {
   "cell_type": "code",
   "execution_count": 10,
   "metadata": {},
   "outputs": [],
   "source": [
    "class Solution:\n",
    "    def validateBST(self, root):\n",
    "        \n",
    "        def helper(node, lower, upper):\n",
    "            if not node: # IN THE HELPER, CAN'T ADD \"or (not node.left and not node.right)\" \n",
    "                return True\n",
    "            if node and lower < node.val < upper:\n",
    "                return helper(node.left, lower, node.val) and helper(node.right, node.val, upper)\n",
    "            else:\n",
    "                return False\n",
    "        return helper(root, float('-inf'), float('inf'))"
   ]
  },
  {
   "cell_type": "markdown",
   "metadata": {},
   "source": [
    "##### LC 18. 4Sum\n",
    "Given an array nums of n integers, return an array of all the unique quadruplets [nums[a], nums[b], nums[c], nums[d]] such that:\n",
    "\n",
    "0 <= a, b, c, d < n\n",
    "a, b, c, and d are distinct.\n",
    "nums[a] + nums[b] + nums[c] + nums[d] == target\n",
    "You may return the answer in any order.\n",
    "\n",
    "* Input: nums = [1,0,-1,0,-2,2], target = 0\n",
    "* Output: [[-2,-1,1,2],[-2,0,0,2],[-1,0,0,1]]\n",
    "\n",
    "##### FLASH BUT NOT ACE"
   ]
  },
  {
   "cell_type": "code",
   "execution_count": null,
   "metadata": {},
   "outputs": [],
   "source": [
    "class Solution:\n",
    "    def 4Sum(self, nums, target):\n",
    "        nums.sort()\n",
    "        res = []\n",
    "        self.kSum(nums, target, 4, [], res)\n",
    "        return res\n",
    "    \n",
    "    def kSum(self, nums, target, k, pref, res):\n",
    "        if k <= 1 or len(nums) < k: # k <= 1\n",
    "            return\n",
    "        if k == 2:\n",
    "            output = self.twoSum(nums, target)\n",
    "            for l in output:\n",
    "                res.append(pref + l)\n",
    "        else:\n",
    "            if nums[0] * k <= target and nums[-1] * k >= target:\n",
    "                for i in range(len(nums)-k+1):\n",
    "                    if i == 0 or nums[i] != nums[i-1]:\n",
    "                        self.kSum(nums[i+1:], target - nums[i], k-1, pref+[nums[i]], res)\n",
    "                        \n",
    "    def twoSum(self, nums, target):\n",
    "        l,r = 0, len(nums)-1\n",
    "        out = []\n",
    "        while l < r:\n",
    "            temp_sum = nums[l] + nums[r]\n",
    "            if temp_sum == target:\n",
    "                out.append([nums[l],nums[r]]) # !!!! HERE IS APPENDING THE NUMS RATHER THAN THE INDEXES !!!!\n",
    "                l += 1\n",
    "                r -= 1\n",
    "                while l<r and nums[l] == nums[l-1]:\n",
    "                    l += 1\n",
    "                while l<r and nums[r] == nums[r+1]:\n",
    "                    r -= 1\n",
    "            elif temp_sum < target:\n",
    "                l += 1\n",
    "            else:\n",
    "                r -= 1\n",
    "        return out\n",
    "                \n",
    "        "
   ]
  },
  {
   "cell_type": "markdown",
   "metadata": {},
   "source": [
    "##### LC 844. Backspace String Compare\n",
    "Given two strings s and t, return true if they are equal when both are typed into empty text editors. '#' means a backspace character.\n",
    "\n",
    "Note that after backspacing an empty text, the text will continue empty.\n",
    "\n",
    "* Input: s = \"ab#c\", t = \"ad#c\"\n",
    "* Output: true\n",
    "\n",
    "##### FLASH"
   ]
  },
  {
   "cell_type": "code",
   "execution_count": 11,
   "metadata": {},
   "outputs": [],
   "source": [
    "class Solution:\n",
    "    def backspaceString(self, s, t):\n",
    "        stack_s = []\n",
    "        stack_t = []\n",
    "        for c in s:\n",
    "            if stack_s and c == '#':\n",
    "                stack_s.pop()\n",
    "            elif c != '#':\n",
    "                stack_s.append(c)\n",
    "        for c in t:\n",
    "            if c != '#':\n",
    "                stack_t.append(c)\n",
    "            else:\n",
    "                if stack_t: stack_t.pop()\n",
    "        return stack_s == stack_t\n",
    "            "
   ]
  },
  {
   "cell_type": "markdown",
   "metadata": {},
   "source": [
    "##### LC 53. Maximum Subarray\n",
    "Given an integer array nums, find the contiguous subarray (containing at least one number) which has the largest sum and return its sum.\n",
    "\n",
    "A subarray is a contiguous part of an array.\n",
    "\n",
    "* Input: nums = [-2,1,-3,4,-1,2,1,-5,4]\n",
    "* Output: 6\n",
    "\n",
    "##### FLASH BUT NOT ACE"
   ]
  },
  {
   "cell_type": "code",
   "execution_count": 12,
   "metadata": {},
   "outputs": [],
   "source": [
    "class Solution:\n",
    "    def maxSubarray(self, nums):\n",
    "        max_sum = nums[0] # NEED TO START WITH nums[0] RATHER THAN float('-inf') !!!! WHEN n == 1!!!\n",
    "        prev_sum = nums[0]\n",
    "        for i in range(1,len(nums)):\n",
    "            prev_sum = max(prev_sum+nums[i], nums[i])\n",
    "            max_sum = max(prev_sum, max_sum) # CHECK max_sum AFTER prev_sum SINCE O.W. WE WILL MISS THE LAST ONE !!!!\n",
    "        return max_sum"
   ]
  },
  {
   "cell_type": "markdown",
   "metadata": {},
   "source": [
    "##### LC 671. Second Minimum Node In a Binary Tree\n",
    "Given a non-empty special binary tree consisting of nodes with the non-negative value, where each node in this tree has exactly two or zero sub-node. If the node has two sub-nodes, then this node's value is the smaller value among its two sub-nodes. More formally, the property root.val = min(root.left.val, root.right.val) always holds.\n",
    "\n",
    "Given such a binary tree, you need to output the second minimum value in the set made of all the nodes' value in the whole tree.\n",
    "\n",
    "If no such second minimum value exists, output -1 instead.\n",
    "\n",
    "* Input: root = [2,2,5,null,null,5,7]\n",
    "* Output: 5\n",
    "\n",
    "##### FLASH BUT NOT USING THE INFO THAT: PARENT EQUALS SMALLER CHILD AND 0/2 NODES"
   ]
  },
  {
   "cell_type": "code",
   "execution_count": 13,
   "metadata": {},
   "outputs": [],
   "source": [
    "class Solution:\n",
    "    def secondMinBT(self, root):\n",
    "        path_preorder = []\n",
    "        def preorder(node):\n",
    "            if node:\n",
    "                path_preorder.append(node.val)\n",
    "                preorder(node.left)\n",
    "                preorder(node.right)\n",
    "        preorder(root)\n",
    "        unique_vals = list(set(path_preorder))\n",
    "        unique_vals.sort()\n",
    "        return unique_vals[1] if len(unique_vals) > 1 else -1"
   ]
  },
  {
   "cell_type": "markdown",
   "metadata": {},
   "source": [
    "##### LC 102. Binary Tree Level Order Traversal\n",
    "Given the root of a binary tree, return the level order traversal of its nodes' values. (i.e., from left to right, level by level).\n",
    "\n",
    "* Input: root = [3,9,20,null,null,15,7]\n",
    "* Output: [[3],[9,20],[15,7]]\n",
    "\n",
    "##### FLASH BUT NOT ACE B/C SPELLING ERROR"
   ]
  },
  {
   "cell_type": "code",
   "execution_count": 14,
   "metadata": {},
   "outputs": [],
   "source": [
    "class Solution:\n",
    "    def BT_Level(self, root):\n",
    "        res = []\n",
    "        level_queue = [root] if root else [] # ADD CHECKING NONE CONDITION\n",
    "        while level_queue:\n",
    "            temp_l = []\n",
    "            temp_q = []\n",
    "            l = len(level_queue) # len() RATHER THAN length() !!!!! DOUBLE CHECK\n",
    "            for i in range(l):\n",
    "                curr_node = level_queue.pop(0)\n",
    "                temp_l.append(curr_node.val) \n",
    "                if curr_node.left:\n",
    "                    temp_q.append(curr_node.left) # ACTUALLY NO NEED FOR temp_q SINCE WE ALREADY CONTROLLED THE LENGTH\n",
    "                if curr_node.right:\n",
    "                    temp_q.append(curr_node.right)\n",
    "            res.append(temp_l)\n",
    "            level_queue = temp_q\n",
    "        return res        "
   ]
  },
  {
   "cell_type": "markdown",
   "metadata": {},
   "source": [
    "##### LC 111. Minimum Depth of Binary Tree\n",
    "Given a binary tree, find its minimum depth.\n",
    "\n",
    "The minimum depth is the number of nodes along the shortest path from the root node down to the nearest leaf node.\n",
    "\n",
    "Note: A leaf is a node with no children.\n",
    "\n",
    "* Input: root = [3,9,20,null,null,15,7]\n",
    "* Output: 2\n",
    "\n",
    "##### FLASH BUT ACE B/C TYPOS !!!"
   ]
  },
  {
   "cell_type": "code",
   "execution_count": 15,
   "metadata": {},
   "outputs": [],
   "source": [
    "class Solution:\n",
    "    def minDepthBT_iteration(self, root):\n",
    "        if not root: return 0\n",
    "        queue = [(root, 1)]\n",
    "        while queue:\n",
    "            curr_node, depth = queue.pop(0)\n",
    "            if not curr_node.left and not curr_node.right:\n",
    "                return depth\n",
    "            if curr_node.left:\n",
    "                queue.append((curr_node.left, depth+1)) # !!! FORGOT curr_\n",
    "            if curr_node.right:\n",
    "                queue.append((curr_node.right, depth+1)) # !!! FORGOT curr_\n",
    "    \n",
    "    def minDepthBT_recursive(self, root): # RECURSION IS AMAZING, ALWAYS NEED THE RECURSIVE FUNTION !!! CALL IT OVER AND OVER AGAIN\n",
    "        if not root:\n",
    "            return 0\n",
    "        if not root.left:\n",
    "            return self.minDepthBT_recursive(root.right) + 1\n",
    "        if not root.right:\n",
    "            return self.minDepthBT_recursion(root.left) + 1\n",
    "        return min(self.minDepthBT_recursive(root.right), self.minDepthBT_recursion(root.left)) + 1"
   ]
  },
  {
   "cell_type": "markdown",
   "metadata": {},
   "source": [
    "##### LC 104. Maximum Depth of Binary Tree\n",
    "Given the root of a binary tree, return its maximum depth.\n",
    "\n",
    "A binary tree's maximum depth is the number of nodes along the longest path from the root node down to the farthest leaf node.\n",
    "\n",
    "* Input: root = [3,9,20,null,null,15,7]\n",
    "* Output: 3\n",
    "\n",
    "##### FLASH BUT CODE CAN BE SIMPLIFIED"
   ]
  },
  {
   "cell_type": "code",
   "execution_count": null,
   "metadata": {},
   "outputs": [],
   "source": [
    "class Solution:\n",
    "    def maxDepthBT_recursive(self, root):\n",
    "        if not root:\n",
    "            return 0\n",
    "#         if not root.left:\n",
    "#             return self.maxDepthBT_recursive(root.right) + 1\n",
    "#         if not root.right:\n",
    "#             return self.maxDepthBT_recursive(root.left) + 1\n",
    "        return max(self.maxDepthBT_recursive(root.left), self.maxDepthBT_recursive(root.right)) + 1\n",
    "    \n",
    "    def maxDepth_iteration(self, root):\n",
    "        if not root: return 0\n",
    "        to_visit = [(root, 1)]\n",
    "        while to_visit:\n",
    "            curr_node, depth = to_visit.pop(0)\n",
    "            if curr_node.left:\n",
    "                to_visit.append((curr_node.left, depth+1))\n",
    "            if curr_node.right:\n",
    "                to_visit.append((curr_node.right, depth+1))\n",
    "        return depth"
   ]
  },
  {
   "cell_type": "markdown",
   "metadata": {},
   "source": [
    "##### LC 88. Merge Sorted Array\n",
    "You are given two integer arrays nums1 and nums2, sorted in non-decreasing order, and two integers m and n, representing the number of elements in nums1 and nums2 respectively.\n",
    "\n",
    "Merge nums1 and nums2 into a single array sorted in non-decreasing order.\n",
    "\n",
    "The final sorted array should not be returned by the function, but instead be stored inside the array nums1. To accommodate this, nums1 has a length of m + n, where the first m elements denote the elements that should be merged, and the last n elements are set to 0 and should be ignored. nums2 has a length of n.\n",
    "\n",
    "* Input: nums1 = [1,2,3,0,0,0], m = 3, nums2 = [2,5,6], n = 3\n",
    "* Output: [1,2,2,3,5,6]\n",
    "\n",
    "##### FLASH"
   ]
  },
  {
   "cell_type": "code",
   "execution_count": 16,
   "metadata": {},
   "outputs": [],
   "source": [
    "class Solution:\n",
    "    def merge2Arrays(self, nums1, m, nums2, n):\n",
    "        i,j = m-1, n-1\n",
    "        writeidx = m+n-1\n",
    "        while i>=0 and j>=0:\n",
    "            if nums1[i] > nums2[j]:\n",
    "                nums1[writeidx] = nums1[i]\n",
    "                i -= 1\n",
    "            else:\n",
    "                nums1[writeidx] = nums2[j]\n",
    "                j -= 1\n",
    "            writeidx -= 1\n",
    "        if j > -1:\n",
    "            nums1[:j+1] = nums2[:j+1]"
   ]
  },
  {
   "cell_type": "markdown",
   "metadata": {},
   "source": [
    "##### LC 21. Merge Two Sorted Lists\n",
    "Merge two sorted linked lists and return it as a sorted list. The list should be made by splicing together the nodes of the first two lists.\n",
    "\n",
    "* Input: l1 = [1,2,4], l2 = [1,3,4]\n",
    "* Output: [1,1,2,3,4,4]\n",
    "\n",
    "##### FLASH"
   ]
  },
  {
   "cell_type": "code",
   "execution_count": 17,
   "metadata": {},
   "outputs": [],
   "source": [
    "class Solution:\n",
    "    def merge2SortedList_iterate(self, l1, l2):\n",
    "        head = sorted_list = ListNode(0)\n",
    "        while l1 and l2:\n",
    "            if l1.val < l2.val:\n",
    "                sorted_list.next = ListNode(l1.val)\n",
    "                l1 = l1.next\n",
    "                sorted_list = sorted_list.next\n",
    "            else:\n",
    "                sorted_list.next = ListNode(l2.val)\n",
    "                l2 = l2.next\n",
    "                sorted_list = sorted_list.next\n",
    "        sorted_list.next = l1 or l2\n",
    "        return head.next\n",
    "    \n",
    "    def merge2SortedList_recursive(self, l1, l2):\n",
    "        if not l1:\n",
    "            return l2\n",
    "        if not l2:\n",
    "            return l1\n",
    "        if l1.val < l2.val:\n",
    "            ans = ListNode(l1.val)\n",
    "            ans.next = self.merge2SortedList_recursive(l1.next, l2)\n",
    "        else:\n",
    "            ans = ListNode(l2.val)\n",
    "            ans.next = self.merge2SortedList_recursive(l1, l2.next)\n",
    "        return ans"
   ]
  },
  {
   "cell_type": "markdown",
   "metadata": {},
   "source": [
    "##### LC 42. Trapping Rain Water\n",
    "Given n non-negative integers representing an elevation map where the width of each bar is 1, compute how much water it can trap after raining.\n",
    "\n",
    "* Input: height = [0,1,0,2,1,0,1,3,2,1,2,1]\n",
    "* Output: 6\n",
    "\n",
    "##### FLASH"
   ]
  },
  {
   "cell_type": "code",
   "execution_count": 18,
   "metadata": {},
   "outputs": [],
   "source": [
    "class Solution:\n",
    "    def trapWater(self, height):\n",
    "        n = len(height)\n",
    "        left_highest = [0]*n\n",
    "        max_l = 0\n",
    "        right_highest = [0]*n\n",
    "        max_r = 0\n",
    "        water = [0]*n\n",
    "        for i in range(n):\n",
    "            max_l = max(max_l, height[i])\n",
    "            left_highest[i] = max_l\n",
    "        for i in range(n-1, -1, -1):\n",
    "            max_r = max(max_r, height[i])\n",
    "            right_highest[i] = max_r\n",
    "        for i in range(n):\n",
    "            water[i] = min(left_highest[i], right_highest[i]) - height[i]\n",
    "        return sum(water)"
   ]
  },
  {
   "cell_type": "markdown",
   "metadata": {},
   "source": [
    "##### LC 39. Combination Sum\n",
    "Given an array of distinct integers candidates and a target integer target, return a list of all unique combinations of candidates where the chosen numbers sum to target. You may return the combinations in any order.\n",
    "\n",
    "The same number may be chosen from candidates an unlimited number of times. Two combinations are unique if the frequency of at least one of the chosen numbers is different.\n",
    "\n",
    "It is guaranteed that the number of unique combinations that sum up to target is less than 150 combinations for the given input.\n",
    "\n",
    "* Input: candidates = [2,3,6,7], target = 7\n",
    "* Output: [[2,2,3],[7]]\n",
    "\n",
    "##### NOT FLASH NOT ACE !!!! NEED TO PRACTICE TWO MORE TIMES"
   ]
  },
  {
   "cell_type": "code",
   "execution_count": 19,
   "metadata": {},
   "outputs": [],
   "source": [
    "class Solution:\n",
    "    def combinationSum(self, candidates, target):\n",
    "        # if the sum is bigger than target, track back\n",
    "        # candidates[i] then find target-candidates[i]\n",
    "        res = []\n",
    "#         candidates.sort() # NOT NECESSARY\n",
    "        self.backtracking(candidates, target, 0, [], res)\n",
    "        return res\n",
    "        \n",
    "    def backtracking(self, nums, target, start_idx, pref, res):\n",
    "        if target < 0:\n",
    "            return\n",
    "        if target == 0:\n",
    "            res.append(pref)\n",
    "            return\n",
    "        for i in range(start_idx, len(nums)):\n",
    "            self.backtracking(nums, target - nums[i], i, pref + [nums[i]], res) # VERY IMPORTANT TO USE + INSTEAD OF .append()\n",
    "            \n",
    "    def combinationSum_DFS(self, candidates, target):\n",
    "        res = []\n",
    "        def dfs(curr, curr_sum, idx):\n",
    "            if curr_sum > target:\n",
    "                return\n",
    "            if curr_sum == target:\n",
    "                res.append(curr)\n",
    "                return\n",
    "            for i in range(idx, len(candidates)):\n",
    "                dfs(curr+[candidates[i]], curr_sum+candidates[i], i) # TYPOS FOR candidates\n",
    "        dfs([], 0, 0)\n",
    "        return res\n",
    "                    "
   ]
  },
  {
   "cell_type": "markdown",
   "metadata": {},
   "source": [
    "##### LC 40. Combination Sum II\n",
    "Given a collection of candidate numbers (candidates) and a target number (target), find all unique combinations in candidates where the candidate numbers sum to target.\n",
    "\n",
    "Each number in candidates may only be used once in the combination.\n",
    "\n",
    "Note: The solution set must not contain duplicate combinations.\n",
    "\n",
    "* Input: candidates = [10,1,2,7,6,1,5], target = 8\n",
    "* Output: \n",
    "[\n",
    "[1,1,6],\n",
    "[1,2,5],\n",
    "[1,7],\n",
    "[2,6]\n",
    "]\n",
    "\n",
    "##### NOT FLASH AND TYPOS AGAIN!!!\n"
   ]
  },
  {
   "cell_type": "code",
   "execution_count": 21,
   "metadata": {},
   "outputs": [],
   "source": [
    "class Solution:\n",
    "    def combinationSum2(self, candidates, target):\n",
    "        # need to be unique combinations so need sort and skip the repeated loop\n",
    "        candidates.sort()\n",
    "        n = len(candidates)\n",
    "        res = []\n",
    "        self.backtracking(candidates, target, 0, [], res)\n",
    "        return res\n",
    "    def backtracking(self, nums, target, start_idx, pref, res):\n",
    "        if target < 0:\n",
    "            return\n",
    "        if target == 0:\n",
    "            res.append(pref)\n",
    "            return\n",
    "        for i in range(start_idx, len(nums)):\n",
    "            if i > start_idx and nums[i-1] == nums[i]: # TO AVOID DUPLICATE;\n",
    "                continue\n",
    "            self.backtracking(nums, target-nums[i], i+1, pref + [nums[i]], res) # TO AVOID ONE ITEM USE MULTIPLE TIMES"
   ]
  },
  {
   "cell_type": "markdown",
   "metadata": {},
   "source": [
    "##### LC 35. Search Insert Position\n",
    "Given a sorted array of distinct integers and a target value, return the index if the target is found. If not, return the index where it would be if it were inserted in order.\n",
    "\n",
    "You must write an algorithm with O(log n) runtime complexity.\n",
    "\n",
    "* Input: nums = [1,3,5,6], target = 5\n",
    "* Output: 2\n",
    "\n",
    "##### NOT FLASH NOT ACE! NEED MORE PRACTICE!!!!!; BS ACE"
   ]
  },
  {
   "cell_type": "code",
   "execution_count": 22,
   "metadata": {},
   "outputs": [],
   "source": [
    "class Solution:\n",
    "    def searchInsert_BF(self, nums, target):\n",
    "        for i in range(len(nums)):\n",
    "            if nums[i] >= target:\n",
    "                return i\n",
    "        return len(nums) # IF BEYOND ALL ELEMENTS\n",
    "    def searchInsert_BS(self, nums, target):\n",
    "        begin, end = 0, len(nums)-1\n",
    "        while begin <= end:\n",
    "            mid = begin + (end-begin)//2\n",
    "            mid_val = nums[mid]\n",
    "            if mid_val == target:\n",
    "                return mid\n",
    "            elif mid_val < target:\n",
    "                begin = mid + 1\n",
    "            else:\n",
    "                end = mid -1\n",
    "        return begin"
   ]
  },
  {
   "cell_type": "markdown",
   "metadata": {},
   "source": [
    "##### LC 349. Intersection of Two Arrays\n",
    "Given two integer arrays nums1 and nums2, return an array of their intersection. Each element in the result must be unique and you may return the result in any order.\n",
    "\n",
    "* Input: nums1 = [1,2,2,1], nums2 = [2,2]\n",
    "* Output: [2]\n",
    "\n",
    "##### FLASH BF; BUT NEED TO THINK MORE ABOUT HOW SMART IT IS TO USE HASH TABLE AS MARKERS TO REDUCE COMPUTATION"
   ]
  },
  {
   "cell_type": "code",
   "execution_count": 23,
   "metadata": {},
   "outputs": [],
   "source": [
    "class Solution:\n",
    "    def intersect2Arrays_BF(self, nums1, nums2):\n",
    "        res = []\n",
    "        for i in range(len(nums1)):\n",
    "            for j in range(len(nums2)):\n",
    "                if nums1[i]==nums2[j] and nums1[i] not in res:\n",
    "                    res.append(nums1[i])\n",
    "        return res\n",
    "    \n",
    "    def intersect2Arrays(self, nums1, nums2):\n",
    "        d = dict()\n",
    "        res = []\n",
    "        for num in nums1:\n",
    "            d[num] = 1\n",
    "        for num in nums2:\n",
    "            if num in d and d[num] == 1:\n",
    "                res.append(num)\n",
    "                d[num] -= 1\n",
    "        return res\n",
    "                    "
   ]
  },
  {
   "cell_type": "markdown",
   "metadata": {},
   "source": [
    "##### LC 692. Top K Frequent Words\n",
    "Given an array of strings words and an integer k, return the k most frequent strings.\n",
    "\n",
    "Return the answer sorted by the frequency from highest to lowest. Sort the words with the same frequency by their lexicographical order.\n",
    "\n",
    "* Input: words = [\"i\",\"love\",\"leetcode\",\"i\",\"love\",\"coding\"], k = 2\n",
    "* Output: [\"i\",\"love\"]\n",
    "\n",
    "##### NOT FLASH NOT ACE EVEN BF\n",
    "##### A LITTLE LOST WHEN DOING MIN_HEAP, IT SHOULD BE LOOPING THROUGH THE DICTIONARY RATHER THAN THE ORIGINAL LIST. NEED MORE PRACTICE!!!!"
   ]
  },
  {
   "cell_type": "code",
   "execution_count": 24,
   "metadata": {},
   "outputs": [],
   "source": [
    "class wrapstring:\n",
    "    def __init__(self, string):\n",
    "        self.val = string\n",
    "    def __eq__(self, other):\n",
    "        return self.val == other.val\n",
    "    def __lt__(self, other):\n",
    "        return self.val > other.val\n",
    "\n",
    "\n",
    "class Solution:\n",
    "    def topKfreqwords_hash(self, words, k):\n",
    "        d = dict()\n",
    "        for w in words:\n",
    "            if w not in d:\n",
    "                d[w] = 1\n",
    "            else:\n",
    "                d[w] += 1\n",
    "        return sorted(d, key = lambda x: (-d[x], x))[:k] # FORGOT return!!!\n",
    "     \n",
    "    def topKfreqwords_heap(self, words, k):\n",
    "        min_heap = []\n",
    "        d = Counter(words)\n",
    "        for word in d:\n",
    "            heapq.heappush(min_heap, ((d[word], wrapstring(word)), word))\n",
    "            if len(min_heap) > k: # only when len greater than k we pop out !!!!\n",
    "                heapq.heappop(min_heap)\n",
    "        return [word for _,word in min_heap][::-1] ## need to reverse again\n",
    "    "
   ]
  },
  {
   "cell_type": "markdown",
   "metadata": {},
   "source": [
    "##### LC 215. Kth Largest Element in an Array\n",
    "Given an integer array nums and an integer k, return the kth largest element in the array.\n",
    "\n",
    "Note that it is the kth largest element in the sorted order, not the kth distinct element.\n",
    "\n",
    "* Input: nums = [3,2,1,5,6,4], k = 2\n",
    "* Output: 5\n",
    "\n",
    "##### FLASH"
   ]
  },
  {
   "cell_type": "code",
   "execution_count": 25,
   "metadata": {},
   "outputs": [],
   "source": [
    "class Solution:\n",
    "    def kthLargestElement(self, nums, k):\n",
    "        nums.sort()\n",
    "        return nums[-k]\n",
    "    \n",
    "    def kthLargestElement_heap(self, nums, k):\n",
    "        min_heap = []\n",
    "        for num in nums:\n",
    "            heapq.heappush(min_heap, num)\n",
    "            if len(min_heap) > k:\n",
    "                heapq.heappop(min_heap)\n",
    "        return heapq.heappop(min_heap)"
   ]
  },
  {
   "cell_type": "markdown",
   "metadata": {},
   "source": [
    "##### LC 127. Word Ladder\n",
    "A transformation sequence from word beginWord to word endWord using a dictionary wordList is a sequence of words beginWord -> s1 -> s2 -> ... -> sk such that:\n",
    "\n",
    "Every adjacent pair of words differs by a single letter.\n",
    "Every si for 1 <= i <= k is in wordList. Note that beginWord does not need to be in wordList.\n",
    "sk == endWord\n",
    "Given two words, beginWord and endWord, and a dictionary wordList, return the number of words in the shortest transformation sequence from beginWord to endWord, or 0 if no such sequence exists.\n",
    "\n",
    "* Input: beginWord = \"hit\", endWord = \"cog\", wordList = [\"hot\",\"dot\",\"dog\",\"lot\",\"log\",\"cog\"]\n",
    "* Output: 5\n",
    "\n",
    "##### NOT FLASH NOT ACE. NEED MORE PRACTICE. EDGE CASE. DETAILS"
   ]
  },
  {
   "cell_type": "code",
   "execution_count": null,
   "metadata": {},
   "outputs": [],
   "source": [
    "class Solution:\n",
    "    def wordLadder(self, beginWord, endWord, wordList):\n",
    "        if endWord not in wordList: # early ending condition\n",
    "            return 0\n",
    "        d = defaultdict(list)\n",
    "        l = len(beginWord)\n",
    "        for word in wordList:\n",
    "            for i in range(l):\n",
    "                temp = word[:i] + '*' + word[i+1:]\n",
    "                d[temp].append(word)\n",
    "        \n",
    "        visited = set()\n",
    "        to_visit = [(beginWord, 1)]\n",
    "        while to_visit:\n",
    "            curr_word, length = to_visit.pop(0) # remember to pop from left!!!!!\n",
    "            for i in range(l):\n",
    "                temp_s = curr_word[:i] + '*' + curr_word[i+1:]\n",
    "                for word in d[temp_s]:\n",
    "                    if word == endWord: \n",
    "                        return length + 1\n",
    "                    if word not in visited:\n",
    "                        visited.add(word)\n",
    "                        to_visit.append((word, length + 1))\n",
    "        return 0\n",
    "                \n",
    "                    "
   ]
  },
  {
   "cell_type": "markdown",
   "metadata": {},
   "source": [
    "##### LC 1091. Shortest Path in Binary Matrix\n",
    "\n",
    "Given an n x n binary matrix grid, return the length of the shortest clear path in the matrix. If there is no clear path, return -1.\n",
    "\n",
    "A clear path in a binary matrix is a path from the top-left cell (i.e., (0, 0)) to the bottom-right cell (i.e., (n - 1, n - 1)) such that:\n",
    "\n",
    "* All the visited cells of the path are 0.\n",
    "* All the adjacent cells of the path are 8-directionally connected (i.e., they are different and they share an edge or a corner).\n",
    "* The length of a clear path is the number of visited cells of this path.\n",
    "\n",
    "* Input: grid = [[0,1],[1,0]]\n",
    "* Output: 2\n",
    "\n",
    "##### FLASH AND ACE; BFS ALWAYS SAVE THE FIRST ONE, USE TO_VISIT QUEUE; IF NEED TO REMOVE DUPLICATE, ALWAYS HAVE A SET VISITED"
   ]
  },
  {
   "cell_type": "code",
   "execution_count": 26,
   "metadata": {},
   "outputs": [],
   "source": [
    "class Solution:\n",
    "    def shortestPath(self, grid):\n",
    "        n = len(grid)\n",
    "        if grid[0][0] != 0 or grid[n-1][n-1] != 0:\n",
    "            return -1\n",
    "        visited = set((0,0))\n",
    "        to_visit = [(0, 0, 1)]\n",
    "        while to_visit:\n",
    "            x, y, l = to_visit.pop(0)\n",
    "            if x == n-1 and y == n-1:\n",
    "                return l\n",
    "            for dx,dy in [(-1,0), (-1,1), (0,1), (1,1), (1,0), (1,-1), (0,-1), (-1,-1)]:\n",
    "                if 0 <= x+dx < n and 0 <= y+dy < n and (x+dx, y+dy) not in visited and grid[x+dx][y+dy] == 0:\n",
    "                    visited.add((x+dx, y+dy))\n",
    "                    to_visit.append((x+dx, y+dy, l+1))\n",
    "        return -1"
   ]
  },
  {
   "cell_type": "markdown",
   "metadata": {},
   "source": [
    "##### LC 121. Best Time to Buy and Sell Stock\n",
    "You are given an array prices where prices[i] is the price of a given stock on the ith day.\n",
    "\n",
    "You want to maximize your profit by choosing a single day to buy one stock and choosing a different day in the future to sell that stock.\n",
    "\n",
    "Return the maximum profit you can achieve from this transaction. If you cannot achieve any profit, return 0.\n",
    "\n",
    "* Input: prices = [7,1,5,3,6,4]\n",
    "* Output: 5\n",
    "\n",
    "##### ACE; THE ORDER OF MIN_PRICE AND MAX_PROFIT DO NOT MATTER"
   ]
  },
  {
   "cell_type": "code",
   "execution_count": 27,
   "metadata": {},
   "outputs": [],
   "source": [
    "class Solution:\n",
    "    def stockQ1(self, prices):\n",
    "        max_profit = 0\n",
    "        min_price = prices[0]\n",
    "        for price in prices:\n",
    "            max_profit = max(max_profit, price - min_price)\n",
    "            min_price = min(min_price, price)\n",
    "        return max_profit"
   ]
  },
  {
   "cell_type": "markdown",
   "metadata": {},
   "source": [
    "##### LC 122. Best Time to Buy and Sell Stock II\n",
    "You are given an array prices where prices[i] is the price of a given stock on the ith day.\n",
    "\n",
    "Find the maximum profit you can achieve. You may complete as many transactions as you like (i.e., buy one and sell one share of the stock multiple times).\n",
    "\n",
    "Note: You may not engage in multiple transactions simultaneously (i.e., you must sell the stock before you buy again).\n",
    "\n",
    "* Input: prices = [7,1,5,3,6,4]\n",
    "* Output: 7\n",
    "\n",
    "##### FLASH\n"
   ]
  },
  {
   "cell_type": "code",
   "execution_count": 28,
   "metadata": {},
   "outputs": [],
   "source": [
    "class Solution:\n",
    "    def stockQ2(self, prices):\n",
    "        profit = 0\n",
    "        for i in range(1, len(prices)):\n",
    "            if prices[i] > prices[i-1]:\n",
    "                profit += prices[i] - prices[i-1]\n",
    "        return profit"
   ]
  },
  {
   "cell_type": "markdown",
   "metadata": {},
   "source": [
    "##### LC 11. Container With Most Water\n",
    "Given n non-negative integers a1, a2, ..., an , where each represents a point at coordinate (i, ai). n vertical lines are drawn such that the two endpoints of the line i is at (i, ai) and (i, 0). Find two lines, which, together with the x-axis forms a container, such that the container contains the most water.\n",
    "\n",
    "Notice that you may not slant the container.\n",
    "\n",
    "* Input: height = [1,8,6,2,5,4,8,3,7]\n",
    "* Output: 49\n",
    "\n",
    "##### FLASH FOR BF BUT NOT FOR TWO POINTERS METHOD"
   ]
  },
  {
   "cell_type": "code",
   "execution_count": 29,
   "metadata": {},
   "outputs": [],
   "source": [
    "class Solution:\n",
    "    def containerWater(self, height):\n",
    "        # BF will surely help\n",
    "        # A better angle can be that we are sacrificing height for weight\n",
    "        \n",
    "        l,r = 0, len(height)-1\n",
    "        max_water = 0\n",
    "        while l<r:\n",
    "            temp = min(height[l], height[r]) * (r-l)\n",
    "            max_water = max(max_water, temp)\n",
    "            if height[l] < height[r]:\n",
    "                l += 1\n",
    "            else:\n",
    "                r -= 1\n",
    "        return max_water\n",
    "        "
   ]
  },
  {
   "cell_type": "markdown",
   "metadata": {},
   "source": [
    "##### LC 239. Sliding Window Maximum\n",
    "You are given an array of integers nums, there is a sliding window of size k which is moving from the very left of the array to the very right. You can only see the k numbers in the window. Each time the sliding window moves right by one position.\n",
    "\n",
    "Return the max sliding window.\n",
    "\n",
    "* Input: nums = [1,3,-1,-3,5,3,6,7], k = 3\n",
    "* Output: [3,3,5,5,6,7]\n",
    "\n",
    "##### FLASH FOR BF BUT TLE"
   ]
  },
  {
   "cell_type": "code",
   "execution_count": 30,
   "metadata": {},
   "outputs": [],
   "source": [
    "class Solution:\n",
    "    def slidingWindowMax(self, nums, k):\n",
    "        output = []\n",
    "        for i in range(len(nums)-k+1):\n",
    "            output.append(max(nums[i:i+k]))\n",
    "        return output"
   ]
  },
  {
   "cell_type": "markdown",
   "metadata": {},
   "source": [
    "##### \n",
    "\n"
   ]
  }
 ],
 "metadata": {
  "kernelspec": {
   "display_name": "Python 3",
   "language": "python",
   "name": "python3"
  },
  "language_info": {
   "codemirror_mode": {
    "name": "ipython",
    "version": 3
   },
   "file_extension": ".py",
   "mimetype": "text/x-python",
   "name": "python",
   "nbconvert_exporter": "python",
   "pygments_lexer": "ipython3",
   "version": "3.7.1"
  }
 },
 "nbformat": 4,
 "nbformat_minor": 2
}
